{
 "cells": [
  {
   "cell_type": "markdown",
   "metadata": {},
   "source": [
    "# Project: Identify Customer Segments\n",
    "\n",
    "In this project, you will apply unsupervised learning techniques to identify segments of the population that form the core customer base for a mail-order sales company in Germany. These segments can then be used to direct marketing campaigns towards audiences that will have the highest expected rate of returns. The data that you will use has been provided by our partners at Bertelsmann Arvato Analytics, and represents a real-life data science task.\n",
    "\n",
    "This notebook will help you complete this task by providing a framework within which you will perform your analysis steps. In each step of the project, you will see some text describing the subtask that you will perform, followed by one or more code cells for you to complete your work. **Feel free to add additional code and markdown cells as you go along so that you can explore everything in precise chunks.** The code cells provided in the base template will outline only the major tasks, and will usually not be enough to cover all of the minor tasks that comprise it.\n",
    "\n",
    "It should be noted that while there will be precise guidelines on how you should handle certain tasks in the project, there will also be places where an exact specification is not provided. **There will be times in the project where you will need to make and justify your own decisions on how to treat the data.** These are places where there may not be only one way to handle the data. In real-life tasks, there may be many valid ways to approach an analysis task. One of the most important things you can do is clearly document your approach so that other scientists can understand the decisions you've made.\n",
    "\n",
    "At the end of most sections, there will be a Markdown cell labeled **Discussion**. In these cells, you will report your findings for the completed section, as well as document the decisions that you made in your approach to each subtask. **Your project will be evaluated not just on the code used to complete the tasks outlined, but also your communication about your observations and conclusions at each stage.**"
   ]
  },
  {
   "cell_type": "code",
   "execution_count": 1,
   "metadata": {},
   "outputs": [],
   "source": [
    "# import libraries here; add more as necessary\n",
    "import numpy as np\n",
    "import pandas as pd\n",
    "import matplotlib.pyplot as plt\n",
    "import seaborn as sns\n",
    "from sklearn.preprocessing import StandardScaler, Imputer\n",
    "from sklearn.decomposition import PCA\n",
    "from sklearn.cluster import KMeans\n",
    "\n",
    "# magic word for producing visualizations in notebook\n",
    "%matplotlib inline"
   ]
  },
  {
   "cell_type": "markdown",
   "metadata": {},
   "source": [
    "### Step 0: Load the Data\n",
    "\n",
    "There are four files associated with this project (not including this one):\n",
    "\n",
    "- `Udacity_AZDIAS_Subset.csv`: Demographics data for the general population of Germany; 891211 persons (rows) x 85 features (columns).\n",
    "- `Udacity_CUSTOMERS_Subset.csv`: Demographics data for customers of a mail-order company; 191652 persons (rows) x 85 features (columns).\n",
    "- `Data_Dictionary.md`: Detailed information file about the features in the provided datasets.\n",
    "- `AZDIAS_Feature_Summary.csv`: Summary of feature attributes for demographics data; 85 features (rows) x 4 columns\n",
    "\n",
    "Each row of the demographics files represents a single person, but also includes information outside of individuals, including information about their household, building, and neighborhood. You will use this information to cluster the general population into groups with similar demographic properties. Then, you will see how the people in the customers dataset fit into those created clusters. The hope here is that certain clusters are over-represented in the customers data, as compared to the general population; those over-represented clusters will be assumed to be part of the core userbase. This information can then be used for further applications, such as targeting for a marketing campaign.\n",
    "\n",
    "To start off with, load in the demographics data for the general population into a pandas DataFrame, and do the same for the feature attributes summary. Note for all of the `.csv` data files in this project: they're semicolon (`;`) delimited, so you'll need an additional argument in your [`read_csv()`](https://pandas.pydata.org/pandas-docs/stable/generated/pandas.read_csv.html) call to read in the data properly. Also, considering the size of the main dataset, it may take some time for it to load completely.\n",
    "\n",
    "Once the dataset is loaded, it's recommended that you take a little bit of time just browsing the general structure of the dataset and feature summary file. You'll be getting deep into the innards of the cleaning in the first major step of the project, so gaining some general familiarity can help you get your bearings."
   ]
  },
  {
   "cell_type": "code",
   "execution_count": 2,
   "metadata": {},
   "outputs": [],
   "source": [
    "# Load in the general demographics data.\n",
    "azdias = pd.read_csv(\"Udacity_AZDIAS_Subset.csv\", sep=';')\n",
    "# Load in the feature summary file.\n",
    "feat_info = pd.read_csv(\"AZDIAS_Feature_Summary.csv\", sep=';')"
   ]
  },
  {
   "cell_type": "code",
   "execution_count": 3,
   "metadata": {},
   "outputs": [
    {
     "name": "stdout",
     "output_type": "stream",
     "text": [
      "Number of rows in Azdias =  891221\n",
      "Number of columns in Azdias 85\n",
      "First five rows of Azdias\n"
     ]
    },
    {
     "data": {
      "text/html": [
       "<div>\n",
       "<style scoped>\n",
       "    .dataframe tbody tr th:only-of-type {\n",
       "        vertical-align: middle;\n",
       "    }\n",
       "\n",
       "    .dataframe tbody tr th {\n",
       "        vertical-align: top;\n",
       "    }\n",
       "\n",
       "    .dataframe thead th {\n",
       "        text-align: right;\n",
       "    }\n",
       "</style>\n",
       "<table border=\"1\" class=\"dataframe\">\n",
       "  <thead>\n",
       "    <tr style=\"text-align: right;\">\n",
       "      <th></th>\n",
       "      <th>AGER_TYP</th>\n",
       "      <th>ALTERSKATEGORIE_GROB</th>\n",
       "      <th>ANREDE_KZ</th>\n",
       "      <th>CJT_GESAMTTYP</th>\n",
       "      <th>FINANZ_MINIMALIST</th>\n",
       "      <th>FINANZ_SPARER</th>\n",
       "      <th>FINANZ_VORSORGER</th>\n",
       "      <th>FINANZ_ANLEGER</th>\n",
       "      <th>FINANZ_UNAUFFAELLIGER</th>\n",
       "      <th>FINANZ_HAUSBAUER</th>\n",
       "      <th>...</th>\n",
       "      <th>PLZ8_ANTG1</th>\n",
       "      <th>PLZ8_ANTG2</th>\n",
       "      <th>PLZ8_ANTG3</th>\n",
       "      <th>PLZ8_ANTG4</th>\n",
       "      <th>PLZ8_BAUMAX</th>\n",
       "      <th>PLZ8_HHZ</th>\n",
       "      <th>PLZ8_GBZ</th>\n",
       "      <th>ARBEIT</th>\n",
       "      <th>ORTSGR_KLS9</th>\n",
       "      <th>RELAT_AB</th>\n",
       "    </tr>\n",
       "  </thead>\n",
       "  <tbody>\n",
       "    <tr>\n",
       "      <th>0</th>\n",
       "      <td>-1</td>\n",
       "      <td>2</td>\n",
       "      <td>1</td>\n",
       "      <td>2.0</td>\n",
       "      <td>3</td>\n",
       "      <td>4</td>\n",
       "      <td>3</td>\n",
       "      <td>5</td>\n",
       "      <td>5</td>\n",
       "      <td>3</td>\n",
       "      <td>...</td>\n",
       "      <td>NaN</td>\n",
       "      <td>NaN</td>\n",
       "      <td>NaN</td>\n",
       "      <td>NaN</td>\n",
       "      <td>NaN</td>\n",
       "      <td>NaN</td>\n",
       "      <td>NaN</td>\n",
       "      <td>NaN</td>\n",
       "      <td>NaN</td>\n",
       "      <td>NaN</td>\n",
       "    </tr>\n",
       "    <tr>\n",
       "      <th>1</th>\n",
       "      <td>-1</td>\n",
       "      <td>1</td>\n",
       "      <td>2</td>\n",
       "      <td>5.0</td>\n",
       "      <td>1</td>\n",
       "      <td>5</td>\n",
       "      <td>2</td>\n",
       "      <td>5</td>\n",
       "      <td>4</td>\n",
       "      <td>5</td>\n",
       "      <td>...</td>\n",
       "      <td>2.0</td>\n",
       "      <td>3.0</td>\n",
       "      <td>2.0</td>\n",
       "      <td>1.0</td>\n",
       "      <td>1.0</td>\n",
       "      <td>5.0</td>\n",
       "      <td>4.0</td>\n",
       "      <td>3.0</td>\n",
       "      <td>5.0</td>\n",
       "      <td>4.0</td>\n",
       "    </tr>\n",
       "    <tr>\n",
       "      <th>2</th>\n",
       "      <td>-1</td>\n",
       "      <td>3</td>\n",
       "      <td>2</td>\n",
       "      <td>3.0</td>\n",
       "      <td>1</td>\n",
       "      <td>4</td>\n",
       "      <td>1</td>\n",
       "      <td>2</td>\n",
       "      <td>3</td>\n",
       "      <td>5</td>\n",
       "      <td>...</td>\n",
       "      <td>3.0</td>\n",
       "      <td>3.0</td>\n",
       "      <td>1.0</td>\n",
       "      <td>0.0</td>\n",
       "      <td>1.0</td>\n",
       "      <td>4.0</td>\n",
       "      <td>4.0</td>\n",
       "      <td>3.0</td>\n",
       "      <td>5.0</td>\n",
       "      <td>2.0</td>\n",
       "    </tr>\n",
       "    <tr>\n",
       "      <th>3</th>\n",
       "      <td>2</td>\n",
       "      <td>4</td>\n",
       "      <td>2</td>\n",
       "      <td>2.0</td>\n",
       "      <td>4</td>\n",
       "      <td>2</td>\n",
       "      <td>5</td>\n",
       "      <td>2</td>\n",
       "      <td>1</td>\n",
       "      <td>2</td>\n",
       "      <td>...</td>\n",
       "      <td>2.0</td>\n",
       "      <td>2.0</td>\n",
       "      <td>2.0</td>\n",
       "      <td>0.0</td>\n",
       "      <td>1.0</td>\n",
       "      <td>3.0</td>\n",
       "      <td>4.0</td>\n",
       "      <td>2.0</td>\n",
       "      <td>3.0</td>\n",
       "      <td>3.0</td>\n",
       "    </tr>\n",
       "    <tr>\n",
       "      <th>4</th>\n",
       "      <td>-1</td>\n",
       "      <td>3</td>\n",
       "      <td>1</td>\n",
       "      <td>5.0</td>\n",
       "      <td>4</td>\n",
       "      <td>3</td>\n",
       "      <td>4</td>\n",
       "      <td>1</td>\n",
       "      <td>3</td>\n",
       "      <td>2</td>\n",
       "      <td>...</td>\n",
       "      <td>2.0</td>\n",
       "      <td>4.0</td>\n",
       "      <td>2.0</td>\n",
       "      <td>1.0</td>\n",
       "      <td>2.0</td>\n",
       "      <td>3.0</td>\n",
       "      <td>3.0</td>\n",
       "      <td>4.0</td>\n",
       "      <td>6.0</td>\n",
       "      <td>5.0</td>\n",
       "    </tr>\n",
       "  </tbody>\n",
       "</table>\n",
       "<p>5 rows × 85 columns</p>\n",
       "</div>"
      ],
      "text/plain": [
       "   AGER_TYP  ALTERSKATEGORIE_GROB  ANREDE_KZ  CJT_GESAMTTYP  \\\n",
       "0        -1                     2          1            2.0   \n",
       "1        -1                     1          2            5.0   \n",
       "2        -1                     3          2            3.0   \n",
       "3         2                     4          2            2.0   \n",
       "4        -1                     3          1            5.0   \n",
       "\n",
       "   FINANZ_MINIMALIST  FINANZ_SPARER  FINANZ_VORSORGER  FINANZ_ANLEGER  \\\n",
       "0                  3              4                 3               5   \n",
       "1                  1              5                 2               5   \n",
       "2                  1              4                 1               2   \n",
       "3                  4              2                 5               2   \n",
       "4                  4              3                 4               1   \n",
       "\n",
       "   FINANZ_UNAUFFAELLIGER  FINANZ_HAUSBAUER    ...     PLZ8_ANTG1  PLZ8_ANTG2  \\\n",
       "0                      5                 3    ...            NaN         NaN   \n",
       "1                      4                 5    ...            2.0         3.0   \n",
       "2                      3                 5    ...            3.0         3.0   \n",
       "3                      1                 2    ...            2.0         2.0   \n",
       "4                      3                 2    ...            2.0         4.0   \n",
       "\n",
       "   PLZ8_ANTG3  PLZ8_ANTG4  PLZ8_BAUMAX  PLZ8_HHZ  PLZ8_GBZ  ARBEIT  \\\n",
       "0         NaN         NaN          NaN       NaN       NaN     NaN   \n",
       "1         2.0         1.0          1.0       5.0       4.0     3.0   \n",
       "2         1.0         0.0          1.0       4.0       4.0     3.0   \n",
       "3         2.0         0.0          1.0       3.0       4.0     2.0   \n",
       "4         2.0         1.0          2.0       3.0       3.0     4.0   \n",
       "\n",
       "   ORTSGR_KLS9  RELAT_AB  \n",
       "0          NaN       NaN  \n",
       "1          5.0       4.0  \n",
       "2          5.0       2.0  \n",
       "3          3.0       3.0  \n",
       "4          6.0       5.0  \n",
       "\n",
       "[5 rows x 85 columns]"
      ]
     },
     "execution_count": 3,
     "metadata": {},
     "output_type": "execute_result"
    }
   ],
   "source": [
    "row_az = azdias.shape[0]\n",
    "print(\"Number of rows in Azdias = \", row_az)\n",
    "column_az = azdias.shape[1]\n",
    "print(\"Number of columns in Azdias\", column_az)\n",
    "print(\"First five rows of Azdias\")\n",
    "azdias.head()"
   ]
  },
  {
   "cell_type": "code",
   "execution_count": 4,
   "metadata": {},
   "outputs": [
    {
     "name": "stdout",
     "output_type": "stream",
     "text": [
      "Number of rows in Feature Summary =  85\n",
      "Number of columns in Feature Summary 4\n",
      "Feature Summary: \n"
     ]
    },
    {
     "data": {
      "text/html": [
       "<div>\n",
       "<style scoped>\n",
       "    .dataframe tbody tr th:only-of-type {\n",
       "        vertical-align: middle;\n",
       "    }\n",
       "\n",
       "    .dataframe tbody tr th {\n",
       "        vertical-align: top;\n",
       "    }\n",
       "\n",
       "    .dataframe thead th {\n",
       "        text-align: right;\n",
       "    }\n",
       "</style>\n",
       "<table border=\"1\" class=\"dataframe\">\n",
       "  <thead>\n",
       "    <tr style=\"text-align: right;\">\n",
       "      <th></th>\n",
       "      <th>attribute</th>\n",
       "      <th>information_level</th>\n",
       "      <th>type</th>\n",
       "      <th>missing_or_unknown</th>\n",
       "    </tr>\n",
       "  </thead>\n",
       "  <tbody>\n",
       "    <tr>\n",
       "      <th>0</th>\n",
       "      <td>AGER_TYP</td>\n",
       "      <td>person</td>\n",
       "      <td>categorical</td>\n",
       "      <td>[-1,0]</td>\n",
       "    </tr>\n",
       "    <tr>\n",
       "      <th>1</th>\n",
       "      <td>ALTERSKATEGORIE_GROB</td>\n",
       "      <td>person</td>\n",
       "      <td>ordinal</td>\n",
       "      <td>[-1,0,9]</td>\n",
       "    </tr>\n",
       "    <tr>\n",
       "      <th>2</th>\n",
       "      <td>ANREDE_KZ</td>\n",
       "      <td>person</td>\n",
       "      <td>categorical</td>\n",
       "      <td>[-1,0]</td>\n",
       "    </tr>\n",
       "    <tr>\n",
       "      <th>3</th>\n",
       "      <td>CJT_GESAMTTYP</td>\n",
       "      <td>person</td>\n",
       "      <td>categorical</td>\n",
       "      <td>[0]</td>\n",
       "    </tr>\n",
       "    <tr>\n",
       "      <th>4</th>\n",
       "      <td>FINANZ_MINIMALIST</td>\n",
       "      <td>person</td>\n",
       "      <td>ordinal</td>\n",
       "      <td>[-1]</td>\n",
       "    </tr>\n",
       "    <tr>\n",
       "      <th>5</th>\n",
       "      <td>FINANZ_SPARER</td>\n",
       "      <td>person</td>\n",
       "      <td>ordinal</td>\n",
       "      <td>[-1]</td>\n",
       "    </tr>\n",
       "    <tr>\n",
       "      <th>6</th>\n",
       "      <td>FINANZ_VORSORGER</td>\n",
       "      <td>person</td>\n",
       "      <td>ordinal</td>\n",
       "      <td>[-1]</td>\n",
       "    </tr>\n",
       "    <tr>\n",
       "      <th>7</th>\n",
       "      <td>FINANZ_ANLEGER</td>\n",
       "      <td>person</td>\n",
       "      <td>ordinal</td>\n",
       "      <td>[-1]</td>\n",
       "    </tr>\n",
       "    <tr>\n",
       "      <th>8</th>\n",
       "      <td>FINANZ_UNAUFFAELLIGER</td>\n",
       "      <td>person</td>\n",
       "      <td>ordinal</td>\n",
       "      <td>[-1]</td>\n",
       "    </tr>\n",
       "    <tr>\n",
       "      <th>9</th>\n",
       "      <td>FINANZ_HAUSBAUER</td>\n",
       "      <td>person</td>\n",
       "      <td>ordinal</td>\n",
       "      <td>[-1]</td>\n",
       "    </tr>\n",
       "    <tr>\n",
       "      <th>10</th>\n",
       "      <td>FINANZTYP</td>\n",
       "      <td>person</td>\n",
       "      <td>categorical</td>\n",
       "      <td>[-1]</td>\n",
       "    </tr>\n",
       "    <tr>\n",
       "      <th>11</th>\n",
       "      <td>GEBURTSJAHR</td>\n",
       "      <td>person</td>\n",
       "      <td>numeric</td>\n",
       "      <td>[0]</td>\n",
       "    </tr>\n",
       "    <tr>\n",
       "      <th>12</th>\n",
       "      <td>GFK_URLAUBERTYP</td>\n",
       "      <td>person</td>\n",
       "      <td>categorical</td>\n",
       "      <td>[]</td>\n",
       "    </tr>\n",
       "    <tr>\n",
       "      <th>13</th>\n",
       "      <td>GREEN_AVANTGARDE</td>\n",
       "      <td>person</td>\n",
       "      <td>categorical</td>\n",
       "      <td>[]</td>\n",
       "    </tr>\n",
       "    <tr>\n",
       "      <th>14</th>\n",
       "      <td>HEALTH_TYP</td>\n",
       "      <td>person</td>\n",
       "      <td>ordinal</td>\n",
       "      <td>[-1,0]</td>\n",
       "    </tr>\n",
       "    <tr>\n",
       "      <th>15</th>\n",
       "      <td>LP_LEBENSPHASE_FEIN</td>\n",
       "      <td>person</td>\n",
       "      <td>mixed</td>\n",
       "      <td>[0]</td>\n",
       "    </tr>\n",
       "    <tr>\n",
       "      <th>16</th>\n",
       "      <td>LP_LEBENSPHASE_GROB</td>\n",
       "      <td>person</td>\n",
       "      <td>mixed</td>\n",
       "      <td>[0]</td>\n",
       "    </tr>\n",
       "    <tr>\n",
       "      <th>17</th>\n",
       "      <td>LP_FAMILIE_FEIN</td>\n",
       "      <td>person</td>\n",
       "      <td>categorical</td>\n",
       "      <td>[0]</td>\n",
       "    </tr>\n",
       "    <tr>\n",
       "      <th>18</th>\n",
       "      <td>LP_FAMILIE_GROB</td>\n",
       "      <td>person</td>\n",
       "      <td>categorical</td>\n",
       "      <td>[0]</td>\n",
       "    </tr>\n",
       "    <tr>\n",
       "      <th>19</th>\n",
       "      <td>LP_STATUS_FEIN</td>\n",
       "      <td>person</td>\n",
       "      <td>categorical</td>\n",
       "      <td>[0]</td>\n",
       "    </tr>\n",
       "    <tr>\n",
       "      <th>20</th>\n",
       "      <td>LP_STATUS_GROB</td>\n",
       "      <td>person</td>\n",
       "      <td>categorical</td>\n",
       "      <td>[0]</td>\n",
       "    </tr>\n",
       "    <tr>\n",
       "      <th>21</th>\n",
       "      <td>NATIONALITAET_KZ</td>\n",
       "      <td>person</td>\n",
       "      <td>categorical</td>\n",
       "      <td>[-1,0]</td>\n",
       "    </tr>\n",
       "    <tr>\n",
       "      <th>22</th>\n",
       "      <td>PRAEGENDE_JUGENDJAHRE</td>\n",
       "      <td>person</td>\n",
       "      <td>mixed</td>\n",
       "      <td>[-1,0]</td>\n",
       "    </tr>\n",
       "    <tr>\n",
       "      <th>23</th>\n",
       "      <td>RETOURTYP_BK_S</td>\n",
       "      <td>person</td>\n",
       "      <td>ordinal</td>\n",
       "      <td>[0]</td>\n",
       "    </tr>\n",
       "    <tr>\n",
       "      <th>24</th>\n",
       "      <td>SEMIO_SOZ</td>\n",
       "      <td>person</td>\n",
       "      <td>ordinal</td>\n",
       "      <td>[-1,9]</td>\n",
       "    </tr>\n",
       "    <tr>\n",
       "      <th>25</th>\n",
       "      <td>SEMIO_FAM</td>\n",
       "      <td>person</td>\n",
       "      <td>ordinal</td>\n",
       "      <td>[-1,9]</td>\n",
       "    </tr>\n",
       "    <tr>\n",
       "      <th>26</th>\n",
       "      <td>SEMIO_REL</td>\n",
       "      <td>person</td>\n",
       "      <td>ordinal</td>\n",
       "      <td>[-1,9]</td>\n",
       "    </tr>\n",
       "    <tr>\n",
       "      <th>27</th>\n",
       "      <td>SEMIO_MAT</td>\n",
       "      <td>person</td>\n",
       "      <td>ordinal</td>\n",
       "      <td>[-1,9]</td>\n",
       "    </tr>\n",
       "    <tr>\n",
       "      <th>28</th>\n",
       "      <td>SEMIO_VERT</td>\n",
       "      <td>person</td>\n",
       "      <td>ordinal</td>\n",
       "      <td>[-1,9]</td>\n",
       "    </tr>\n",
       "    <tr>\n",
       "      <th>29</th>\n",
       "      <td>SEMIO_LUST</td>\n",
       "      <td>person</td>\n",
       "      <td>ordinal</td>\n",
       "      <td>[-1,9]</td>\n",
       "    </tr>\n",
       "    <tr>\n",
       "      <th>...</th>\n",
       "      <td>...</td>\n",
       "      <td>...</td>\n",
       "      <td>...</td>\n",
       "      <td>...</td>\n",
       "    </tr>\n",
       "    <tr>\n",
       "      <th>55</th>\n",
       "      <td>OST_WEST_KZ</td>\n",
       "      <td>building</td>\n",
       "      <td>categorical</td>\n",
       "      <td>[-1]</td>\n",
       "    </tr>\n",
       "    <tr>\n",
       "      <th>56</th>\n",
       "      <td>WOHNLAGE</td>\n",
       "      <td>building</td>\n",
       "      <td>mixed</td>\n",
       "      <td>[-1]</td>\n",
       "    </tr>\n",
       "    <tr>\n",
       "      <th>57</th>\n",
       "      <td>CAMEO_DEUG_2015</td>\n",
       "      <td>microcell_rr4</td>\n",
       "      <td>categorical</td>\n",
       "      <td>[-1,X]</td>\n",
       "    </tr>\n",
       "    <tr>\n",
       "      <th>58</th>\n",
       "      <td>CAMEO_DEU_2015</td>\n",
       "      <td>microcell_rr4</td>\n",
       "      <td>categorical</td>\n",
       "      <td>[XX]</td>\n",
       "    </tr>\n",
       "    <tr>\n",
       "      <th>59</th>\n",
       "      <td>CAMEO_INTL_2015</td>\n",
       "      <td>microcell_rr4</td>\n",
       "      <td>mixed</td>\n",
       "      <td>[-1,XX]</td>\n",
       "    </tr>\n",
       "    <tr>\n",
       "      <th>60</th>\n",
       "      <td>KBA05_ANTG1</td>\n",
       "      <td>microcell_rr3</td>\n",
       "      <td>ordinal</td>\n",
       "      <td>[-1]</td>\n",
       "    </tr>\n",
       "    <tr>\n",
       "      <th>61</th>\n",
       "      <td>KBA05_ANTG2</td>\n",
       "      <td>microcell_rr3</td>\n",
       "      <td>ordinal</td>\n",
       "      <td>[-1]</td>\n",
       "    </tr>\n",
       "    <tr>\n",
       "      <th>62</th>\n",
       "      <td>KBA05_ANTG3</td>\n",
       "      <td>microcell_rr3</td>\n",
       "      <td>ordinal</td>\n",
       "      <td>[-1]</td>\n",
       "    </tr>\n",
       "    <tr>\n",
       "      <th>63</th>\n",
       "      <td>KBA05_ANTG4</td>\n",
       "      <td>microcell_rr3</td>\n",
       "      <td>ordinal</td>\n",
       "      <td>[-1]</td>\n",
       "    </tr>\n",
       "    <tr>\n",
       "      <th>64</th>\n",
       "      <td>KBA05_BAUMAX</td>\n",
       "      <td>microcell_rr3</td>\n",
       "      <td>mixed</td>\n",
       "      <td>[-1,0]</td>\n",
       "    </tr>\n",
       "    <tr>\n",
       "      <th>65</th>\n",
       "      <td>KBA05_GBZ</td>\n",
       "      <td>microcell_rr3</td>\n",
       "      <td>ordinal</td>\n",
       "      <td>[-1,0]</td>\n",
       "    </tr>\n",
       "    <tr>\n",
       "      <th>66</th>\n",
       "      <td>BALLRAUM</td>\n",
       "      <td>postcode</td>\n",
       "      <td>ordinal</td>\n",
       "      <td>[-1]</td>\n",
       "    </tr>\n",
       "    <tr>\n",
       "      <th>67</th>\n",
       "      <td>EWDICHTE</td>\n",
       "      <td>postcode</td>\n",
       "      <td>ordinal</td>\n",
       "      <td>[-1]</td>\n",
       "    </tr>\n",
       "    <tr>\n",
       "      <th>68</th>\n",
       "      <td>INNENSTADT</td>\n",
       "      <td>postcode</td>\n",
       "      <td>ordinal</td>\n",
       "      <td>[-1]</td>\n",
       "    </tr>\n",
       "    <tr>\n",
       "      <th>69</th>\n",
       "      <td>GEBAEUDETYP_RASTER</td>\n",
       "      <td>region_rr1</td>\n",
       "      <td>ordinal</td>\n",
       "      <td>[]</td>\n",
       "    </tr>\n",
       "    <tr>\n",
       "      <th>70</th>\n",
       "      <td>KKK</td>\n",
       "      <td>region_rr1</td>\n",
       "      <td>ordinal</td>\n",
       "      <td>[-1,0]</td>\n",
       "    </tr>\n",
       "    <tr>\n",
       "      <th>71</th>\n",
       "      <td>MOBI_REGIO</td>\n",
       "      <td>region_rr1</td>\n",
       "      <td>ordinal</td>\n",
       "      <td>[]</td>\n",
       "    </tr>\n",
       "    <tr>\n",
       "      <th>72</th>\n",
       "      <td>ONLINE_AFFINITAET</td>\n",
       "      <td>region_rr1</td>\n",
       "      <td>ordinal</td>\n",
       "      <td>[]</td>\n",
       "    </tr>\n",
       "    <tr>\n",
       "      <th>73</th>\n",
       "      <td>REGIOTYP</td>\n",
       "      <td>region_rr1</td>\n",
       "      <td>ordinal</td>\n",
       "      <td>[-1,0]</td>\n",
       "    </tr>\n",
       "    <tr>\n",
       "      <th>74</th>\n",
       "      <td>KBA13_ANZAHL_PKW</td>\n",
       "      <td>macrocell_plz8</td>\n",
       "      <td>numeric</td>\n",
       "      <td>[]</td>\n",
       "    </tr>\n",
       "    <tr>\n",
       "      <th>75</th>\n",
       "      <td>PLZ8_ANTG1</td>\n",
       "      <td>macrocell_plz8</td>\n",
       "      <td>ordinal</td>\n",
       "      <td>[-1]</td>\n",
       "    </tr>\n",
       "    <tr>\n",
       "      <th>76</th>\n",
       "      <td>PLZ8_ANTG2</td>\n",
       "      <td>macrocell_plz8</td>\n",
       "      <td>ordinal</td>\n",
       "      <td>[-1]</td>\n",
       "    </tr>\n",
       "    <tr>\n",
       "      <th>77</th>\n",
       "      <td>PLZ8_ANTG3</td>\n",
       "      <td>macrocell_plz8</td>\n",
       "      <td>ordinal</td>\n",
       "      <td>[-1]</td>\n",
       "    </tr>\n",
       "    <tr>\n",
       "      <th>78</th>\n",
       "      <td>PLZ8_ANTG4</td>\n",
       "      <td>macrocell_plz8</td>\n",
       "      <td>ordinal</td>\n",
       "      <td>[-1]</td>\n",
       "    </tr>\n",
       "    <tr>\n",
       "      <th>79</th>\n",
       "      <td>PLZ8_BAUMAX</td>\n",
       "      <td>macrocell_plz8</td>\n",
       "      <td>mixed</td>\n",
       "      <td>[-1,0]</td>\n",
       "    </tr>\n",
       "    <tr>\n",
       "      <th>80</th>\n",
       "      <td>PLZ8_HHZ</td>\n",
       "      <td>macrocell_plz8</td>\n",
       "      <td>ordinal</td>\n",
       "      <td>[-1]</td>\n",
       "    </tr>\n",
       "    <tr>\n",
       "      <th>81</th>\n",
       "      <td>PLZ8_GBZ</td>\n",
       "      <td>macrocell_plz8</td>\n",
       "      <td>ordinal</td>\n",
       "      <td>[-1]</td>\n",
       "    </tr>\n",
       "    <tr>\n",
       "      <th>82</th>\n",
       "      <td>ARBEIT</td>\n",
       "      <td>community</td>\n",
       "      <td>ordinal</td>\n",
       "      <td>[-1,9]</td>\n",
       "    </tr>\n",
       "    <tr>\n",
       "      <th>83</th>\n",
       "      <td>ORTSGR_KLS9</td>\n",
       "      <td>community</td>\n",
       "      <td>ordinal</td>\n",
       "      <td>[-1,0]</td>\n",
       "    </tr>\n",
       "    <tr>\n",
       "      <th>84</th>\n",
       "      <td>RELAT_AB</td>\n",
       "      <td>community</td>\n",
       "      <td>ordinal</td>\n",
       "      <td>[-1,9]</td>\n",
       "    </tr>\n",
       "  </tbody>\n",
       "</table>\n",
       "<p>85 rows × 4 columns</p>\n",
       "</div>"
      ],
      "text/plain": [
       "                attribute information_level         type missing_or_unknown\n",
       "0                AGER_TYP            person  categorical             [-1,0]\n",
       "1    ALTERSKATEGORIE_GROB            person      ordinal           [-1,0,9]\n",
       "2               ANREDE_KZ            person  categorical             [-1,0]\n",
       "3           CJT_GESAMTTYP            person  categorical                [0]\n",
       "4       FINANZ_MINIMALIST            person      ordinal               [-1]\n",
       "5           FINANZ_SPARER            person      ordinal               [-1]\n",
       "6        FINANZ_VORSORGER            person      ordinal               [-1]\n",
       "7          FINANZ_ANLEGER            person      ordinal               [-1]\n",
       "8   FINANZ_UNAUFFAELLIGER            person      ordinal               [-1]\n",
       "9        FINANZ_HAUSBAUER            person      ordinal               [-1]\n",
       "10              FINANZTYP            person  categorical               [-1]\n",
       "11            GEBURTSJAHR            person      numeric                [0]\n",
       "12        GFK_URLAUBERTYP            person  categorical                 []\n",
       "13       GREEN_AVANTGARDE            person  categorical                 []\n",
       "14             HEALTH_TYP            person      ordinal             [-1,0]\n",
       "15    LP_LEBENSPHASE_FEIN            person        mixed                [0]\n",
       "16    LP_LEBENSPHASE_GROB            person        mixed                [0]\n",
       "17        LP_FAMILIE_FEIN            person  categorical                [0]\n",
       "18        LP_FAMILIE_GROB            person  categorical                [0]\n",
       "19         LP_STATUS_FEIN            person  categorical                [0]\n",
       "20         LP_STATUS_GROB            person  categorical                [0]\n",
       "21       NATIONALITAET_KZ            person  categorical             [-1,0]\n",
       "22  PRAEGENDE_JUGENDJAHRE            person        mixed             [-1,0]\n",
       "23         RETOURTYP_BK_S            person      ordinal                [0]\n",
       "24              SEMIO_SOZ            person      ordinal             [-1,9]\n",
       "25              SEMIO_FAM            person      ordinal             [-1,9]\n",
       "26              SEMIO_REL            person      ordinal             [-1,9]\n",
       "27              SEMIO_MAT            person      ordinal             [-1,9]\n",
       "28             SEMIO_VERT            person      ordinal             [-1,9]\n",
       "29             SEMIO_LUST            person      ordinal             [-1,9]\n",
       "..                    ...               ...          ...                ...\n",
       "55            OST_WEST_KZ          building  categorical               [-1]\n",
       "56               WOHNLAGE          building        mixed               [-1]\n",
       "57        CAMEO_DEUG_2015     microcell_rr4  categorical             [-1,X]\n",
       "58         CAMEO_DEU_2015     microcell_rr4  categorical               [XX]\n",
       "59        CAMEO_INTL_2015     microcell_rr4        mixed            [-1,XX]\n",
       "60            KBA05_ANTG1     microcell_rr3      ordinal               [-1]\n",
       "61            KBA05_ANTG2     microcell_rr3      ordinal               [-1]\n",
       "62            KBA05_ANTG3     microcell_rr3      ordinal               [-1]\n",
       "63            KBA05_ANTG4     microcell_rr3      ordinal               [-1]\n",
       "64           KBA05_BAUMAX     microcell_rr3        mixed             [-1,0]\n",
       "65              KBA05_GBZ     microcell_rr3      ordinal             [-1,0]\n",
       "66               BALLRAUM          postcode      ordinal               [-1]\n",
       "67               EWDICHTE          postcode      ordinal               [-1]\n",
       "68             INNENSTADT          postcode      ordinal               [-1]\n",
       "69     GEBAEUDETYP_RASTER        region_rr1      ordinal                 []\n",
       "70                    KKK        region_rr1      ordinal             [-1,0]\n",
       "71             MOBI_REGIO        region_rr1      ordinal                 []\n",
       "72      ONLINE_AFFINITAET        region_rr1      ordinal                 []\n",
       "73               REGIOTYP        region_rr1      ordinal             [-1,0]\n",
       "74       KBA13_ANZAHL_PKW    macrocell_plz8      numeric                 []\n",
       "75             PLZ8_ANTG1    macrocell_plz8      ordinal               [-1]\n",
       "76             PLZ8_ANTG2    macrocell_plz8      ordinal               [-1]\n",
       "77             PLZ8_ANTG3    macrocell_plz8      ordinal               [-1]\n",
       "78             PLZ8_ANTG4    macrocell_plz8      ordinal               [-1]\n",
       "79            PLZ8_BAUMAX    macrocell_plz8        mixed             [-1,0]\n",
       "80               PLZ8_HHZ    macrocell_plz8      ordinal               [-1]\n",
       "81               PLZ8_GBZ    macrocell_plz8      ordinal               [-1]\n",
       "82                 ARBEIT         community      ordinal             [-1,9]\n",
       "83            ORTSGR_KLS9         community      ordinal             [-1,0]\n",
       "84               RELAT_AB         community      ordinal             [-1,9]\n",
       "\n",
       "[85 rows x 4 columns]"
      ]
     },
     "execution_count": 4,
     "metadata": {},
     "output_type": "execute_result"
    }
   ],
   "source": [
    "row_ft = feat_info.shape[0]\n",
    "print(\"Number of rows in Feature Summary = \", row_ft)\n",
    "column_ft = feat_info.shape[1]\n",
    "print(\"Number of columns in Feature Summary\", column_ft)\n",
    "print(\"Feature Summary: \")\n",
    "feat_info"
   ]
  },
  {
   "cell_type": "markdown",
   "metadata": {},
   "source": [
    "> **Tip**: Add additional cells to keep everything in reasonably-sized chunks! Keyboard shortcut `esc --> a` (press escape to enter command mode, then press the 'A' key) adds a new cell before the active cell, and `esc --> b` adds a new cell after the active cell. If you need to convert an active cell to a markdown cell, use `esc --> m` and to convert to a code cell, use `esc --> y`. \n",
    "\n",
    "## Step 1: Preprocessing\n",
    "\n",
    "### Step 1.1: Assess Missing Data\n",
    "\n",
    "The feature summary file contains a summary of properties for each demographics data column. You will use this file to help you make cleaning decisions during this stage of the project. First of all, you should assess the demographics data in terms of missing data. Pay attention to the following points as you perform your analysis, and take notes on what you observe. Make sure that you fill in the **Discussion** cell with your findings and decisions at the end of each step that has one!\n",
    "\n",
    "#### Step 1.1.1: Convert Missing Value Codes to NaNs\n",
    "The fourth column of the feature attributes summary (loaded in above as `feat_info`) documents the codes from the data dictionary that indicate missing or unknown data. While the file encodes this as a list (e.g. `[-1,0]`), this will get read in as a string object. You'll need to do a little bit of parsing to make use of it to identify and clean the data. Convert data that matches a 'missing' or 'unknown' value code into a numpy NaN value. You might want to see how much data takes on a 'missing' or 'unknown' code, and how much data is naturally missing, as a point of interest.\n",
    "\n",
    "**As one more reminder, you are encouraged to add additional cells to break up your analysis into manageable chunks.**"
   ]
  },
  {
   "cell_type": "code",
   "execution_count": 5,
   "metadata": {},
   "outputs": [],
   "source": [
    "# Identify missing or unknown data values and convert them to NaNs.\n"
   ]
  },
  {
   "cell_type": "code",
   "execution_count": 6,
   "metadata": {},
   "outputs": [],
   "source": [
    "az = azdias"
   ]
  },
  {
   "cell_type": "code",
   "execution_count": 7,
   "metadata": {
    "scrolled": true
   },
   "outputs": [
    {
     "data": {
      "text/html": [
       "<div>\n",
       "<style scoped>\n",
       "    .dataframe tbody tr th:only-of-type {\n",
       "        vertical-align: middle;\n",
       "    }\n",
       "\n",
       "    .dataframe tbody tr th {\n",
       "        vertical-align: top;\n",
       "    }\n",
       "\n",
       "    .dataframe thead th {\n",
       "        text-align: right;\n",
       "    }\n",
       "</style>\n",
       "<table border=\"1\" class=\"dataframe\">\n",
       "  <thead>\n",
       "    <tr style=\"text-align: right;\">\n",
       "      <th></th>\n",
       "      <th>AGER_TYP</th>\n",
       "      <th>ALTERSKATEGORIE_GROB</th>\n",
       "      <th>ANREDE_KZ</th>\n",
       "      <th>CJT_GESAMTTYP</th>\n",
       "      <th>FINANZ_MINIMALIST</th>\n",
       "      <th>FINANZ_SPARER</th>\n",
       "      <th>FINANZ_VORSORGER</th>\n",
       "      <th>FINANZ_ANLEGER</th>\n",
       "      <th>FINANZ_UNAUFFAELLIGER</th>\n",
       "      <th>FINANZ_HAUSBAUER</th>\n",
       "      <th>...</th>\n",
       "      <th>PLZ8_ANTG1</th>\n",
       "      <th>PLZ8_ANTG2</th>\n",
       "      <th>PLZ8_ANTG3</th>\n",
       "      <th>PLZ8_ANTG4</th>\n",
       "      <th>PLZ8_BAUMAX</th>\n",
       "      <th>PLZ8_HHZ</th>\n",
       "      <th>PLZ8_GBZ</th>\n",
       "      <th>ARBEIT</th>\n",
       "      <th>ORTSGR_KLS9</th>\n",
       "      <th>RELAT_AB</th>\n",
       "    </tr>\n",
       "  </thead>\n",
       "  <tbody>\n",
       "    <tr>\n",
       "      <th>0</th>\n",
       "      <td>-1</td>\n",
       "      <td>2</td>\n",
       "      <td>1</td>\n",
       "      <td>2.0</td>\n",
       "      <td>3</td>\n",
       "      <td>4</td>\n",
       "      <td>3</td>\n",
       "      <td>5</td>\n",
       "      <td>5</td>\n",
       "      <td>3</td>\n",
       "      <td>...</td>\n",
       "      <td>NaN</td>\n",
       "      <td>NaN</td>\n",
       "      <td>NaN</td>\n",
       "      <td>NaN</td>\n",
       "      <td>NaN</td>\n",
       "      <td>NaN</td>\n",
       "      <td>NaN</td>\n",
       "      <td>NaN</td>\n",
       "      <td>NaN</td>\n",
       "      <td>NaN</td>\n",
       "    </tr>\n",
       "    <tr>\n",
       "      <th>1</th>\n",
       "      <td>-1</td>\n",
       "      <td>1</td>\n",
       "      <td>2</td>\n",
       "      <td>5.0</td>\n",
       "      <td>1</td>\n",
       "      <td>5</td>\n",
       "      <td>2</td>\n",
       "      <td>5</td>\n",
       "      <td>4</td>\n",
       "      <td>5</td>\n",
       "      <td>...</td>\n",
       "      <td>2.0</td>\n",
       "      <td>3.0</td>\n",
       "      <td>2.0</td>\n",
       "      <td>1.0</td>\n",
       "      <td>1.0</td>\n",
       "      <td>5.0</td>\n",
       "      <td>4.0</td>\n",
       "      <td>3.0</td>\n",
       "      <td>5.0</td>\n",
       "      <td>4.0</td>\n",
       "    </tr>\n",
       "    <tr>\n",
       "      <th>2</th>\n",
       "      <td>-1</td>\n",
       "      <td>3</td>\n",
       "      <td>2</td>\n",
       "      <td>3.0</td>\n",
       "      <td>1</td>\n",
       "      <td>4</td>\n",
       "      <td>1</td>\n",
       "      <td>2</td>\n",
       "      <td>3</td>\n",
       "      <td>5</td>\n",
       "      <td>...</td>\n",
       "      <td>3.0</td>\n",
       "      <td>3.0</td>\n",
       "      <td>1.0</td>\n",
       "      <td>0.0</td>\n",
       "      <td>1.0</td>\n",
       "      <td>4.0</td>\n",
       "      <td>4.0</td>\n",
       "      <td>3.0</td>\n",
       "      <td>5.0</td>\n",
       "      <td>2.0</td>\n",
       "    </tr>\n",
       "    <tr>\n",
       "      <th>3</th>\n",
       "      <td>2</td>\n",
       "      <td>4</td>\n",
       "      <td>2</td>\n",
       "      <td>2.0</td>\n",
       "      <td>4</td>\n",
       "      <td>2</td>\n",
       "      <td>5</td>\n",
       "      <td>2</td>\n",
       "      <td>1</td>\n",
       "      <td>2</td>\n",
       "      <td>...</td>\n",
       "      <td>2.0</td>\n",
       "      <td>2.0</td>\n",
       "      <td>2.0</td>\n",
       "      <td>0.0</td>\n",
       "      <td>1.0</td>\n",
       "      <td>3.0</td>\n",
       "      <td>4.0</td>\n",
       "      <td>2.0</td>\n",
       "      <td>3.0</td>\n",
       "      <td>3.0</td>\n",
       "    </tr>\n",
       "    <tr>\n",
       "      <th>4</th>\n",
       "      <td>-1</td>\n",
       "      <td>3</td>\n",
       "      <td>1</td>\n",
       "      <td>5.0</td>\n",
       "      <td>4</td>\n",
       "      <td>3</td>\n",
       "      <td>4</td>\n",
       "      <td>1</td>\n",
       "      <td>3</td>\n",
       "      <td>2</td>\n",
       "      <td>...</td>\n",
       "      <td>2.0</td>\n",
       "      <td>4.0</td>\n",
       "      <td>2.0</td>\n",
       "      <td>1.0</td>\n",
       "      <td>2.0</td>\n",
       "      <td>3.0</td>\n",
       "      <td>3.0</td>\n",
       "      <td>4.0</td>\n",
       "      <td>6.0</td>\n",
       "      <td>5.0</td>\n",
       "    </tr>\n",
       "  </tbody>\n",
       "</table>\n",
       "<p>5 rows × 85 columns</p>\n",
       "</div>"
      ],
      "text/plain": [
       "   AGER_TYP  ALTERSKATEGORIE_GROB  ANREDE_KZ  CJT_GESAMTTYP  \\\n",
       "0        -1                     2          1            2.0   \n",
       "1        -1                     1          2            5.0   \n",
       "2        -1                     3          2            3.0   \n",
       "3         2                     4          2            2.0   \n",
       "4        -1                     3          1            5.0   \n",
       "\n",
       "   FINANZ_MINIMALIST  FINANZ_SPARER  FINANZ_VORSORGER  FINANZ_ANLEGER  \\\n",
       "0                  3              4                 3               5   \n",
       "1                  1              5                 2               5   \n",
       "2                  1              4                 1               2   \n",
       "3                  4              2                 5               2   \n",
       "4                  4              3                 4               1   \n",
       "\n",
       "   FINANZ_UNAUFFAELLIGER  FINANZ_HAUSBAUER    ...     PLZ8_ANTG1  PLZ8_ANTG2  \\\n",
       "0                      5                 3    ...            NaN         NaN   \n",
       "1                      4                 5    ...            2.0         3.0   \n",
       "2                      3                 5    ...            3.0         3.0   \n",
       "3                      1                 2    ...            2.0         2.0   \n",
       "4                      3                 2    ...            2.0         4.0   \n",
       "\n",
       "   PLZ8_ANTG3  PLZ8_ANTG4  PLZ8_BAUMAX  PLZ8_HHZ  PLZ8_GBZ  ARBEIT  \\\n",
       "0         NaN         NaN          NaN       NaN       NaN     NaN   \n",
       "1         2.0         1.0          1.0       5.0       4.0     3.0   \n",
       "2         1.0         0.0          1.0       4.0       4.0     3.0   \n",
       "3         2.0         0.0          1.0       3.0       4.0     2.0   \n",
       "4         2.0         1.0          2.0       3.0       3.0     4.0   \n",
       "\n",
       "   ORTSGR_KLS9  RELAT_AB  \n",
       "0          NaN       NaN  \n",
       "1          5.0       4.0  \n",
       "2          5.0       2.0  \n",
       "3          3.0       3.0  \n",
       "4          6.0       5.0  \n",
       "\n",
       "[5 rows x 85 columns]"
      ]
     },
     "execution_count": 7,
     "metadata": {},
     "output_type": "execute_result"
    }
   ],
   "source": [
    "az.head()"
   ]
  },
  {
   "cell_type": "code",
   "execution_count": 8,
   "metadata": {},
   "outputs": [
    {
     "data": {
      "text/plain": [
       "0   -1\n",
       "1   -1\n",
       "2   -1\n",
       "3    2\n",
       "4   -1\n",
       "Name: AGER_TYP, dtype: int64"
      ]
     },
     "execution_count": 8,
     "metadata": {},
     "output_type": "execute_result"
    }
   ],
   "source": [
    "azdias['AGER_TYP'].head()"
   ]
  },
  {
   "cell_type": "code",
   "execution_count": 9,
   "metadata": {
    "scrolled": true
   },
   "outputs": [
    {
     "data": {
      "text/plain": [
       "0    False\n",
       "1    False\n",
       "2    False\n",
       "3    False\n",
       "4    False\n",
       "Name: AGER_TYP, dtype: bool"
      ]
     },
     "execution_count": 9,
     "metadata": {},
     "output_type": "execute_result"
    }
   ],
   "source": [
    "azdias['AGER_TYP'].isnull().head()"
   ]
  },
  {
   "cell_type": "code",
   "execution_count": 10,
   "metadata": {},
   "outputs": [],
   "source": [
    "for indx in range(len(feat_info)):\n",
    "    missing_values = feat_info.iloc[indx]['missing_or_unknown']\n",
    "    missing_values = missing_values.strip('[')\n",
    "    missing_values = missing_values.strip(']')\n",
    "    missing_values = missing_values.split(sep=',')\n",
    "    missing_values = [int(value) if (value!='X' and value!='XX' and value!='') else value for value in missing_values]\n",
    "    if missing_values != ['']:\n",
    "        azdias = azdias.replace({feat_info.iloc[indx]['attribute']: missing_values}, np.nan)"
   ]
  },
  {
   "cell_type": "code",
   "execution_count": null,
   "metadata": {
    "scrolled": true
   },
   "outputs": [],
   "source": []
  },
  {
   "cell_type": "code",
   "execution_count": null,
   "metadata": {},
   "outputs": [],
   "source": []
  },
  {
   "cell_type": "code",
   "execution_count": null,
   "metadata": {},
   "outputs": [],
   "source": []
  },
  {
   "cell_type": "markdown",
   "metadata": {},
   "source": [
    "#### Step 1.1.2: Assess Missing Data in Each Column\n",
    "\n",
    "How much missing data is present in each column? There are a few columns that are outliers in terms of the proportion of values that are missing. You will want to use matplotlib's [`hist()`](https://matplotlib.org/api/_as_gen/matplotlib.pyplot.hist.html) function to visualize the distribution of missing value counts to find these columns. Identify and document these columns. While some of these columns might have justifications for keeping or re-encoding the data, for this project you should just remove them from the dataframe. (Feel free to make remarks about these outlier columns in the discussion, however!)\n",
    "\n",
    "For the remaining features, are there any patterns in which columns have, or share, missing data?"
   ]
  },
  {
   "cell_type": "code",
   "execution_count": 11,
   "metadata": {},
   "outputs": [
    {
     "data": {
      "text/plain": [
       "AGER_TYP                 685843\n",
       "ALTERSKATEGORIE_GROB       2881\n",
       "ANREDE_KZ                     0\n",
       "CJT_GESAMTTYP              4854\n",
       "FINANZ_MINIMALIST             0\n",
       "FINANZ_SPARER                 0\n",
       "FINANZ_VORSORGER              0\n",
       "FINANZ_ANLEGER                0\n",
       "FINANZ_UNAUFFAELLIGER         0\n",
       "FINANZ_HAUSBAUER              0\n",
       "FINANZTYP                     0\n",
       "GEBURTSJAHR              392318\n",
       "GFK_URLAUBERTYP            4854\n",
       "GREEN_AVANTGARDE              0\n",
       "HEALTH_TYP               111196\n",
       "LP_LEBENSPHASE_FEIN       97632\n",
       "LP_LEBENSPHASE_GROB       94572\n",
       "LP_FAMILIE_FEIN           77792\n",
       "LP_FAMILIE_GROB           77792\n",
       "LP_STATUS_FEIN             4854\n",
       "LP_STATUS_GROB             4854\n",
       "NATIONALITAET_KZ         108315\n",
       "PRAEGENDE_JUGENDJAHRE    108164\n",
       "RETOURTYP_BK_S             4854\n",
       "SEMIO_SOZ                     0\n",
       "SEMIO_FAM                     0\n",
       "SEMIO_REL                     0\n",
       "SEMIO_MAT                     0\n",
       "SEMIO_VERT                    0\n",
       "SEMIO_LUST                    0\n",
       "                          ...  \n",
       "OST_WEST_KZ               93148\n",
       "WOHNLAGE                  93148\n",
       "CAMEO_DEUG_2015           99352\n",
       "CAMEO_DEU_2015            99352\n",
       "CAMEO_INTL_2015           99352\n",
       "KBA05_ANTG1              133324\n",
       "KBA05_ANTG2              133324\n",
       "KBA05_ANTG3              133324\n",
       "KBA05_ANTG4              133324\n",
       "KBA05_BAUMAX             476524\n",
       "KBA05_GBZ                133324\n",
       "BALLRAUM                  93740\n",
       "EWDICHTE                  93740\n",
       "INNENSTADT                93740\n",
       "GEBAEUDETYP_RASTER        93155\n",
       "KKK                      158064\n",
       "MOBI_REGIO               133324\n",
       "ONLINE_AFFINITAET          4854\n",
       "REGIOTYP                 158064\n",
       "KBA13_ANZAHL_PKW         105800\n",
       "PLZ8_ANTG1               116515\n",
       "PLZ8_ANTG2               116515\n",
       "PLZ8_ANTG3               116515\n",
       "PLZ8_ANTG4               116515\n",
       "PLZ8_BAUMAX              116515\n",
       "PLZ8_HHZ                 116515\n",
       "PLZ8_GBZ                 116515\n",
       "ARBEIT                    97375\n",
       "ORTSGR_KLS9               97274\n",
       "RELAT_AB                  97375\n",
       "Length: 85, dtype: int64"
      ]
     },
     "execution_count": 11,
     "metadata": {},
     "output_type": "execute_result"
    }
   ],
   "source": [
    "# Perform an assessment of how much missing data there is in each column of the\n",
    "# dataset.\n",
    "\n",
    "azdias.isnull().sum()"
   ]
  },
  {
   "cell_type": "code",
   "execution_count": 12,
   "metadata": {},
   "outputs": [
    {
     "data": {
      "text/plain": [
       "AGER_TYP                76.955435\n",
       "ALTERSKATEGORIE_GROB     0.323264\n",
       "ANREDE_KZ                0.000000\n",
       "CJT_GESAMTTYP            0.544646\n",
       "FINANZ_MINIMALIST        0.000000\n",
       "dtype: float64"
      ]
     },
     "execution_count": 12,
     "metadata": {},
     "output_type": "execute_result"
    }
   ],
   "source": [
    "missing_data_percentage = azdias.isnull().sum() / len(azdias) * 100\n",
    "missing_data_percentage.head()"
   ]
  },
  {
   "cell_type": "code",
   "execution_count": 13,
   "metadata": {},
   "outputs": [
    {
     "data": {
      "text/plain": [
       "TITEL_KZ        99.757636\n",
       "AGER_TYP        76.955435\n",
       "KK_KUNDENTYP    65.596749\n",
       "KBA05_BAUMAX    53.468668\n",
       "GEBURTSJAHR     44.020282\n",
       "dtype: float64"
      ]
     },
     "execution_count": 13,
     "metadata": {},
     "output_type": "execute_result"
    }
   ],
   "source": [
    "missing_data_percentage.sort_values(ascending=False).head()"
   ]
  },
  {
   "cell_type": "code",
   "execution_count": 14,
   "metadata": {},
   "outputs": [
    {
     "data": {
      "text/plain": [
       "99.757635872583791"
      ]
     },
     "execution_count": 14,
     "metadata": {},
     "output_type": "execute_result"
    }
   ],
   "source": [
    "missing_data_percentage.max()"
   ]
  },
  {
   "cell_type": "code",
   "execution_count": 15,
   "metadata": {},
   "outputs": [],
   "source": [
    "# Investigate patterns in the amount of missing data in each column."
   ]
  },
  {
   "cell_type": "code",
   "execution_count": 16,
   "metadata": {},
   "outputs": [
    {
     "data": {
      "image/png": "[encoded data removed]",
      "text/plain": [
       "<matplotlib.figure.Figure at 0x7f9695931b38>"
      ]
     },
     "metadata": {
      "needs_background": "light"
     },
     "output_type": "display_data"
    }
   ],
   "source": [
    "plt.hist(missing_data_percentage, bins=20)\n",
    "plt.xlabel(\"Percentage of Missing Data\")\n",
    "plt.ylabel(\"Number of Columns\")\n",
    "plt.show()"
   ]
  },
  {
   "cell_type": "code",
   "execution_count": 17,
   "metadata": {
    "scrolled": true
   },
   "outputs": [],
   "source": [
    "#plt.hist(azdias.isnull().sum())\n",
    "#plt.show()"
   ]
  },
  {
   "cell_type": "code",
   "execution_count": 18,
   "metadata": {
    "scrolled": true
   },
   "outputs": [],
   "source": [
    "#plt.hist(azdias.isnull().sum(),10)\n",
    "#plt.show()"
   ]
  },
  {
   "cell_type": "code",
   "execution_count": 19,
   "metadata": {
    "scrolled": false
   },
   "outputs": [],
   "source": [
    "#azdias.isnull().hist()"
   ]
  },
  {
   "cell_type": "code",
   "execution_count": 20,
   "metadata": {},
   "outputs": [],
   "source": [
    "# Remove the outlier columns from the dataset. (You'll perform other data\n",
    "# engineering tasks such as re-encoding and imputation later.)\n"
   ]
  },
  {
   "cell_type": "code",
   "execution_count": 21,
   "metadata": {},
   "outputs": [],
   "source": [
    "outlier_columns = missing_data_percentage.sort_values(ascending=False).head(6)"
   ]
  },
  {
   "cell_type": "code",
   "execution_count": 22,
   "metadata": {},
   "outputs": [
    {
     "data": {
      "text/plain": [
       "TITEL_KZ        99.757636\n",
       "AGER_TYP        76.955435\n",
       "KK_KUNDENTYP    65.596749\n",
       "KBA05_BAUMAX    53.468668\n",
       "GEBURTSJAHR     44.020282\n",
       "ALTER_HH        34.813699\n",
       "dtype: float64"
      ]
     },
     "execution_count": 22,
     "metadata": {},
     "output_type": "execute_result"
    }
   ],
   "source": [
    "outlier_columns"
   ]
  },
  {
   "cell_type": "code",
   "execution_count": 23,
   "metadata": {
    "scrolled": true
   },
   "outputs": [],
   "source": [
    "outlier_columns = outlier_columns.index.tolist()"
   ]
  },
  {
   "cell_type": "code",
   "execution_count": 24,
   "metadata": {
    "scrolled": true
   },
   "outputs": [
    {
     "data": {
      "text/plain": [
       "['TITEL_KZ',\n",
       " 'AGER_TYP',\n",
       " 'KK_KUNDENTYP',\n",
       " 'KBA05_BAUMAX',\n",
       " 'GEBURTSJAHR',\n",
       " 'ALTER_HH']"
      ]
     },
     "execution_count": 24,
     "metadata": {},
     "output_type": "execute_result"
    }
   ],
   "source": [
    "outlier_columns"
   ]
  },
  {
   "cell_type": "code",
   "execution_count": 25,
   "metadata": {
    "scrolled": true
   },
   "outputs": [],
   "source": [
    "azdias = azdias.drop(outlier_columns, axis=1)"
   ]
  },
  {
   "cell_type": "code",
   "execution_count": 26,
   "metadata": {},
   "outputs": [
    {
     "data": {
      "text/html": [
       "<div>\n",
       "<style scoped>\n",
       "    .dataframe tbody tr th:only-of-type {\n",
       "        vertical-align: middle;\n",
       "    }\n",
       "\n",
       "    .dataframe tbody tr th {\n",
       "        vertical-align: top;\n",
       "    }\n",
       "\n",
       "    .dataframe thead th {\n",
       "        text-align: right;\n",
       "    }\n",
       "</style>\n",
       "<table border=\"1\" class=\"dataframe\">\n",
       "  <thead>\n",
       "    <tr style=\"text-align: right;\">\n",
       "      <th></th>\n",
       "      <th>ALTERSKATEGORIE_GROB</th>\n",
       "      <th>ANREDE_KZ</th>\n",
       "      <th>CJT_GESAMTTYP</th>\n",
       "      <th>FINANZ_MINIMALIST</th>\n",
       "      <th>FINANZ_SPARER</th>\n",
       "      <th>FINANZ_VORSORGER</th>\n",
       "      <th>FINANZ_ANLEGER</th>\n",
       "      <th>FINANZ_UNAUFFAELLIGER</th>\n",
       "      <th>FINANZ_HAUSBAUER</th>\n",
       "      <th>FINANZTYP</th>\n",
       "      <th>...</th>\n",
       "      <th>PLZ8_ANTG1</th>\n",
       "      <th>PLZ8_ANTG2</th>\n",
       "      <th>PLZ8_ANTG3</th>\n",
       "      <th>PLZ8_ANTG4</th>\n",
       "      <th>PLZ8_BAUMAX</th>\n",
       "      <th>PLZ8_HHZ</th>\n",
       "      <th>PLZ8_GBZ</th>\n",
       "      <th>ARBEIT</th>\n",
       "      <th>ORTSGR_KLS9</th>\n",
       "      <th>RELAT_AB</th>\n",
       "    </tr>\n",
       "  </thead>\n",
       "  <tbody>\n",
       "    <tr>\n",
       "      <th>0</th>\n",
       "      <td>2.0</td>\n",
       "      <td>1</td>\n",
       "      <td>2.0</td>\n",
       "      <td>3</td>\n",
       "      <td>4</td>\n",
       "      <td>3</td>\n",
       "      <td>5</td>\n",
       "      <td>5</td>\n",
       "      <td>3</td>\n",
       "      <td>4</td>\n",
       "      <td>...</td>\n",
       "      <td>NaN</td>\n",
       "      <td>NaN</td>\n",
       "      <td>NaN</td>\n",
       "      <td>NaN</td>\n",
       "      <td>NaN</td>\n",
       "      <td>NaN</td>\n",
       "      <td>NaN</td>\n",
       "      <td>NaN</td>\n",
       "      <td>NaN</td>\n",
       "      <td>NaN</td>\n",
       "    </tr>\n",
       "    <tr>\n",
       "      <th>1</th>\n",
       "      <td>1.0</td>\n",
       "      <td>2</td>\n",
       "      <td>5.0</td>\n",
       "      <td>1</td>\n",
       "      <td>5</td>\n",
       "      <td>2</td>\n",
       "      <td>5</td>\n",
       "      <td>4</td>\n",
       "      <td>5</td>\n",
       "      <td>1</td>\n",
       "      <td>...</td>\n",
       "      <td>2.0</td>\n",
       "      <td>3.0</td>\n",
       "      <td>2.0</td>\n",
       "      <td>1.0</td>\n",
       "      <td>1.0</td>\n",
       "      <td>5.0</td>\n",
       "      <td>4.0</td>\n",
       "      <td>3.0</td>\n",
       "      <td>5.0</td>\n",
       "      <td>4.0</td>\n",
       "    </tr>\n",
       "    <tr>\n",
       "      <th>2</th>\n",
       "      <td>3.0</td>\n",
       "      <td>2</td>\n",
       "      <td>3.0</td>\n",
       "      <td>1</td>\n",
       "      <td>4</td>\n",
       "      <td>1</td>\n",
       "      <td>2</td>\n",
       "      <td>3</td>\n",
       "      <td>5</td>\n",
       "      <td>1</td>\n",
       "      <td>...</td>\n",
       "      <td>3.0</td>\n",
       "      <td>3.0</td>\n",
       "      <td>1.0</td>\n",
       "      <td>0.0</td>\n",
       "      <td>1.0</td>\n",
       "      <td>4.0</td>\n",
       "      <td>4.0</td>\n",
       "      <td>3.0</td>\n",
       "      <td>5.0</td>\n",
       "      <td>2.0</td>\n",
       "    </tr>\n",
       "    <tr>\n",
       "      <th>3</th>\n",
       "      <td>4.0</td>\n",
       "      <td>2</td>\n",
       "      <td>2.0</td>\n",
       "      <td>4</td>\n",
       "      <td>2</td>\n",
       "      <td>5</td>\n",
       "      <td>2</td>\n",
       "      <td>1</td>\n",
       "      <td>2</td>\n",
       "      <td>6</td>\n",
       "      <td>...</td>\n",
       "      <td>2.0</td>\n",
       "      <td>2.0</td>\n",
       "      <td>2.0</td>\n",
       "      <td>0.0</td>\n",
       "      <td>1.0</td>\n",
       "      <td>3.0</td>\n",
       "      <td>4.0</td>\n",
       "      <td>2.0</td>\n",
       "      <td>3.0</td>\n",
       "      <td>3.0</td>\n",
       "    </tr>\n",
       "    <tr>\n",
       "      <th>4</th>\n",
       "      <td>3.0</td>\n",
       "      <td>1</td>\n",
       "      <td>5.0</td>\n",
       "      <td>4</td>\n",
       "      <td>3</td>\n",
       "      <td>4</td>\n",
       "      <td>1</td>\n",
       "      <td>3</td>\n",
       "      <td>2</td>\n",
       "      <td>5</td>\n",
       "      <td>...</td>\n",
       "      <td>2.0</td>\n",
       "      <td>4.0</td>\n",
       "      <td>2.0</td>\n",
       "      <td>1.0</td>\n",
       "      <td>2.0</td>\n",
       "      <td>3.0</td>\n",
       "      <td>3.0</td>\n",
       "      <td>4.0</td>\n",
       "      <td>6.0</td>\n",
       "      <td>5.0</td>\n",
       "    </tr>\n",
       "  </tbody>\n",
       "</table>\n",
       "<p>5 rows × 79 columns</p>\n",
       "</div>"
      ],
      "text/plain": [
       "   ALTERSKATEGORIE_GROB  ANREDE_KZ  CJT_GESAMTTYP  FINANZ_MINIMALIST  \\\n",
       "0                   2.0          1            2.0                  3   \n",
       "1                   1.0          2            5.0                  1   \n",
       "2                   3.0          2            3.0                  1   \n",
       "3                   4.0          2            2.0                  4   \n",
       "4                   3.0          1            5.0                  4   \n",
       "\n",
       "   FINANZ_SPARER  FINANZ_VORSORGER  FINANZ_ANLEGER  FINANZ_UNAUFFAELLIGER  \\\n",
       "0              4                 3               5                      5   \n",
       "1              5                 2               5                      4   \n",
       "2              4                 1               2                      3   \n",
       "3              2                 5               2                      1   \n",
       "4              3                 4               1                      3   \n",
       "\n",
       "   FINANZ_HAUSBAUER  FINANZTYP    ...     PLZ8_ANTG1  PLZ8_ANTG2  PLZ8_ANTG3  \\\n",
       "0                 3          4    ...            NaN         NaN         NaN   \n",
       "1                 5          1    ...            2.0         3.0         2.0   \n",
       "2                 5          1    ...            3.0         3.0         1.0   \n",
       "3                 2          6    ...            2.0         2.0         2.0   \n",
       "4                 2          5    ...            2.0         4.0         2.0   \n",
       "\n",
       "   PLZ8_ANTG4  PLZ8_BAUMAX  PLZ8_HHZ  PLZ8_GBZ  ARBEIT  ORTSGR_KLS9  RELAT_AB  \n",
       "0         NaN          NaN       NaN       NaN     NaN          NaN       NaN  \n",
       "1         1.0          1.0       5.0       4.0     3.0          5.0       4.0  \n",
       "2         0.0          1.0       4.0       4.0     3.0          5.0       2.0  \n",
       "3         0.0          1.0       3.0       4.0     2.0          3.0       3.0  \n",
       "4         1.0          2.0       3.0       3.0     4.0          6.0       5.0  \n",
       "\n",
       "[5 rows x 79 columns]"
      ]
     },
     "execution_count": 26,
     "metadata": {},
     "output_type": "execute_result"
    }
   ],
   "source": [
    "azdias.head()"
   ]
  },
  {
   "cell_type": "markdown",
   "metadata": {},
   "source": [
    "#### Discussion 1.1.2: Assess Missing Data in Each Column\n",
    "\n",
    "According to the plot above, the majority of the columns are missing less than 20% of the data, however there are some outlier columns that are missing most of its data. By sorting the amount of missing data in descending order, i have identified these outlier columns which were: \n",
    "*['TITEL_KZ',\n",
    " 'AGER_TYP',\n",
    " 'KK_KUNDENTYP',\n",
    " 'KBA05_BAUMAX',\n",
    " 'GEBURTSJAHR',\n",
    " 'ALTER_HH']*"
   ]
  },
  {
   "cell_type": "markdown",
   "metadata": {},
   "source": [
    "#### Step 1.1.3: Assess Missing Data in Each Row\n",
    "\n",
    "Now, you'll perform a similar assessment for the rows of the dataset. How much data is missing in each row? As with the columns, you should see some groups of points that have a very different numbers of missing values. Divide the data into two subsets: one for data points that are above some threshold for missing values, and a second subset for points below that threshold.\n",
    "\n",
    "In order to know what to do with the outlier rows, we should see if the distribution of data values on columns that are not missing data (or are missing very little data) are similar or different between the two groups. Select at least five of these columns and compare the distribution of values.\n",
    "- You can use seaborn's [`countplot()`](https://seaborn.pydata.org/generated/seaborn.countplot.html) function to create a bar chart of code frequencies and matplotlib's [`subplot()`](https://matplotlib.org/api/_as_gen/matplotlib.pyplot.subplot.html) function to put bar charts for the two subplots side by side.\n",
    "- To reduce repeated code, you might want to write a function that can perform this comparison, taking as one of its arguments a column to be compared.\n",
    "\n",
    "Depending on what you observe in your comparison, this will have implications on how you approach your conclusions later in the analysis. If the distributions of non-missing features look similar between the data with many missing values and the data with few or no missing values, then we could argue that simply dropping those points from the analysis won't present a major issue. On the other hand, if the data with many missing values looks very different from the data with few or no missing values, then we should make a note on those data as special. We'll revisit these data later on. **Either way, you should continue your analysis for now using just the subset of the data with few or no missing values.**"
   ]
  },
  {
   "cell_type": "code",
   "execution_count": 27,
   "metadata": {},
   "outputs": [],
   "source": [
    "# How much data is missing in each row of the dataset?\n"
   ]
  },
  {
   "cell_type": "code",
   "execution_count": 28,
   "metadata": {
    "scrolled": true
   },
   "outputs": [
    {
     "data": {
      "text/plain": [
       "643174    49\n",
       "732775    49\n",
       "472919    48\n",
       "183108    47\n",
       "139316    47\n",
       "dtype: int64"
      ]
     },
     "execution_count": 28,
     "metadata": {},
     "output_type": "execute_result"
    }
   ],
   "source": [
    "missing_rows = azdias.isnull().sum(axis=1).sort_values(ascending=False)\n",
    "missing_rows.head()"
   ]
  },
  {
   "cell_type": "code",
   "execution_count": 29,
   "metadata": {},
   "outputs": [],
   "source": [
    "#missing_row_percentage = missing_rows / azdias.shape[1] * 100\n",
    "#missing_row_percentage.sort_values(ascending=False).head()"
   ]
  },
  {
   "cell_type": "code",
   "execution_count": 30,
   "metadata": {},
   "outputs": [
    {
     "data": {
      "image/png": "[encoded data removed]",
      "text/plain": [
       "<matplotlib.figure.Figure at 0x7f9688e10320>"
      ]
     },
     "metadata": {
      "needs_background": "light"
     },
     "output_type": "display_data"
    }
   ],
   "source": [
    "plt.hist(missing_rows, bins=100)\n",
    "plt.xlabel(\"Number of Missing Data in Rows\")\n",
    "plt.ylabel(\"Number of Rows\")\n",
    "plt.show()"
   ]
  },
  {
   "cell_type": "code",
   "execution_count": 31,
   "metadata": {
    "scrolled": true
   },
   "outputs": [
    {
     "name": "stderr",
     "output_type": "stream",
     "text": [
      "/opt/conda/lib/python3.6/site-packages/ipykernel_launcher.py:3: UserWarning: Boolean Series key will be reindexed to match DataFrame index.\n",
      "  This is separate from the ipykernel package so we can avoid doing imports until\n",
      "/opt/conda/lib/python3.6/site-packages/ipykernel_launcher.py:4: UserWarning: Boolean Series key will be reindexed to match DataFrame index.\n",
      "  after removing the cwd from sys.path.\n"
     ]
    }
   ],
   "source": [
    "# Write code to divide the data into two subsets based on the number of missing\n",
    "# values in each row.\n",
    "azdias_sub1 = azdias[missing_rows >= 2]\n",
    "azdias_sub2 = azdias[missing_rows < 2]"
   ]
  },
  {
   "cell_type": "code",
   "execution_count": 32,
   "metadata": {},
   "outputs": [],
   "source": [
    "# Compare the distribution of values for at least five columns where there are\n",
    "# no or few missing values, between the two subsets.\n",
    "\n"
   ]
  },
  {
   "cell_type": "code",
   "execution_count": 33,
   "metadata": {},
   "outputs": [],
   "source": [
    "def compare_column (df1, df2, column):\n",
    "    plt.subplot(1,2,1)\n",
    "    ax1 = sns.countplot(x=column, data=df1)\n",
    "    ax1.set_title('Missing values')\n",
    "    \n",
    "    plt.subplot(1,2,2)\n",
    "    ax2 = sns.countplot(x=column, data=df2)\n",
    "    ax2.set_title('Barely Any Missing values')"
   ]
  },
  {
   "cell_type": "code",
   "execution_count": 34,
   "metadata": {},
   "outputs": [
    {
     "data": {
      "image/png": "[encoded data removed]",
      "text/plain": [
       "<matplotlib.figure.Figure at 0x7f96958aeb00>"
      ]
     },
     "metadata": {
      "needs_background": "light"
     },
     "output_type": "display_data"
    }
   ],
   "source": [
    "compare_column(azdias_sub1, azdias_sub2, \"ALTERSKATEGORIE_GROB\")"
   ]
  },
  {
   "cell_type": "code",
   "execution_count": 35,
   "metadata": {},
   "outputs": [
    {
     "data": {
      "image/png": "[encoded data removed]",
      "text/plain": [
       "<matplotlib.figure.Figure at 0x7f9695775c50>"
      ]
     },
     "metadata": {
      "needs_background": "light"
     },
     "output_type": "display_data"
    }
   ],
   "source": [
    "compare_column(azdias_sub1, azdias_sub2, \"ONLINE_AFFINITAET\")"
   ]
  },
  {
   "cell_type": "code",
   "execution_count": 36,
   "metadata": {},
   "outputs": [
    {
     "data": {
      "image/png": "[encoded data removed]",
      "text/plain": [
       "<matplotlib.figure.Figure at 0x7f968b0fc470>"
      ]
     },
     "metadata": {
      "needs_background": "light"
     },
     "output_type": "display_data"
    }
   ],
   "source": [
    "compare_column(azdias_sub1, azdias_sub2, \"ZABEOTYP\")"
   ]
  },
  {
   "cell_type": "code",
   "execution_count": 37,
   "metadata": {},
   "outputs": [
    {
     "data": {
      "image/png": "[encoded data removed]",
      "text/plain": [
       "<matplotlib.figure.Figure at 0x7f968f39d518>"
      ]
     },
     "metadata": {
      "needs_background": "light"
     },
     "output_type": "display_data"
    }
   ],
   "source": [
    "compare_column(azdias_sub1, azdias_sub2, \"SEMIO_TRADV\")\n"
   ]
  },
  {
   "cell_type": "code",
   "execution_count": 38,
   "metadata": {},
   "outputs": [
    {
     "data": {
      "image/png": "[encoded data removed]",
      "text/plain": [
       "<matplotlib.figure.Figure at 0x7f968f272160>"
      ]
     },
     "metadata": {
      "needs_background": "light"
     },
     "output_type": "display_data"
    }
   ],
   "source": [
    "compare_column(azdias_sub1, azdias_sub2, \"FINANZ_VORSORGER\")"
   ]
  },
  {
   "cell_type": "markdown",
   "metadata": {},
   "source": [
    "#### Discussion 1.1.3: Assess Missing Data in Each Row\n",
    "\n",
    "In the first subset where there are many missing rows, the data is not distributed well and are usually biased to one value.\n",
    "However in the second subset where there are few to no missing rows, the data is distributed much better over all values."
   ]
  },
  {
   "cell_type": "markdown",
   "metadata": {},
   "source": [
    "### Step 1.2: Select and Re-Encode Features\n",
    "\n",
    "Checking for missing data isn't the only way in which you can prepare a dataset for analysis. Since the unsupervised learning techniques to be used will only work on data that is encoded numerically, you need to make a few encoding changes or additional assumptions to be able to make progress. In addition, while almost all of the values in the dataset are encoded using numbers, not all of them represent numeric values. Check the third column of the feature summary (`feat_info`) for a summary of types of measurement.\n",
    "- For numeric and interval data, these features can be kept without changes.\n",
    "- Most of the variables in the dataset are ordinal in nature. While ordinal values may technically be non-linear in spacing, make the simplifying assumption that the ordinal variables can be treated as being interval in nature (that is, kept without any changes).\n",
    "- Special handling may be necessary for the remaining two variable types: categorical, and 'mixed'.\n",
    "\n",
    "In the first two parts of this sub-step, you will perform an investigation of the categorical and mixed-type features and make a decision on each of them, whether you will keep, drop, or re-encode each. Then, in the last part, you will create a new data frame with only the selected and engineered columns.\n",
    "\n",
    "Data wrangling is often the trickiest part of the data analysis process, and there's a lot of it to be done here. But stick with it: once you're done with this step, you'll be ready to get to the machine learning parts of the project!"
   ]
  },
  {
   "cell_type": "code",
   "execution_count": 39,
   "metadata": {},
   "outputs": [],
   "source": [
    "feat_info2 = feat_info['attribute']"
   ]
  },
  {
   "cell_type": "code",
   "execution_count": 40,
   "metadata": {},
   "outputs": [],
   "source": [
    "feat_info_index = feat_info2.isin(outlier_columns)"
   ]
  },
  {
   "cell_type": "code",
   "execution_count": 41,
   "metadata": {},
   "outputs": [],
   "source": [
    "feat_info_index = np.where(feat_info_index)[0]"
   ]
  },
  {
   "cell_type": "code",
   "execution_count": 42,
   "metadata": {
    "scrolled": true
   },
   "outputs": [],
   "source": [
    "feat_info.drop(labels=feat_info_index, axis=0, inplace=True)"
   ]
  },
  {
   "cell_type": "code",
   "execution_count": 43,
   "metadata": {},
   "outputs": [
    {
     "data": {
      "text/html": [
       "<div>\n",
       "<style scoped>\n",
       "    .dataframe tbody tr th:only-of-type {\n",
       "        vertical-align: middle;\n",
       "    }\n",
       "\n",
       "    .dataframe tbody tr th {\n",
       "        vertical-align: top;\n",
       "    }\n",
       "\n",
       "    .dataframe thead th {\n",
       "        text-align: right;\n",
       "    }\n",
       "</style>\n",
       "<table border=\"1\" class=\"dataframe\">\n",
       "  <thead>\n",
       "    <tr style=\"text-align: right;\">\n",
       "      <th></th>\n",
       "      <th>attribute</th>\n",
       "      <th>information_level</th>\n",
       "      <th>type</th>\n",
       "      <th>missing_or_unknown</th>\n",
       "    </tr>\n",
       "  </thead>\n",
       "  <tbody>\n",
       "    <tr>\n",
       "      <th>1</th>\n",
       "      <td>ALTERSKATEGORIE_GROB</td>\n",
       "      <td>person</td>\n",
       "      <td>ordinal</td>\n",
       "      <td>[-1,0,9]</td>\n",
       "    </tr>\n",
       "    <tr>\n",
       "      <th>2</th>\n",
       "      <td>ANREDE_KZ</td>\n",
       "      <td>person</td>\n",
       "      <td>categorical</td>\n",
       "      <td>[-1,0]</td>\n",
       "    </tr>\n",
       "    <tr>\n",
       "      <th>3</th>\n",
       "      <td>CJT_GESAMTTYP</td>\n",
       "      <td>person</td>\n",
       "      <td>categorical</td>\n",
       "      <td>[0]</td>\n",
       "    </tr>\n",
       "    <tr>\n",
       "      <th>4</th>\n",
       "      <td>FINANZ_MINIMALIST</td>\n",
       "      <td>person</td>\n",
       "      <td>ordinal</td>\n",
       "      <td>[-1]</td>\n",
       "    </tr>\n",
       "    <tr>\n",
       "      <th>5</th>\n",
       "      <td>FINANZ_SPARER</td>\n",
       "      <td>person</td>\n",
       "      <td>ordinal</td>\n",
       "      <td>[-1]</td>\n",
       "    </tr>\n",
       "  </tbody>\n",
       "</table>\n",
       "</div>"
      ],
      "text/plain": [
       "              attribute information_level         type missing_or_unknown\n",
       "1  ALTERSKATEGORIE_GROB            person      ordinal           [-1,0,9]\n",
       "2             ANREDE_KZ            person  categorical             [-1,0]\n",
       "3         CJT_GESAMTTYP            person  categorical                [0]\n",
       "4     FINANZ_MINIMALIST            person      ordinal               [-1]\n",
       "5         FINANZ_SPARER            person      ordinal               [-1]"
      ]
     },
     "execution_count": 43,
     "metadata": {},
     "output_type": "execute_result"
    }
   ],
   "source": [
    "feat_info.head()"
   ]
  },
  {
   "cell_type": "code",
   "execution_count": 44,
   "metadata": {},
   "outputs": [
    {
     "data": {
      "text/plain": [
       "ordinal        49\n",
       "categorical    18\n",
       "numeric         6\n",
       "mixed           6\n",
       "Name: type, dtype: int64"
      ]
     },
     "execution_count": 44,
     "metadata": {},
     "output_type": "execute_result"
    }
   ],
   "source": [
    "# How many features are there of each data type?\n",
    "\n",
    "feat_info['type'].value_counts()"
   ]
  },
  {
   "cell_type": "code",
   "execution_count": 45,
   "metadata": {},
   "outputs": [
    {
     "data": {
      "text/html": [
       "<div>\n",
       "<style scoped>\n",
       "    .dataframe tbody tr th:only-of-type {\n",
       "        vertical-align: middle;\n",
       "    }\n",
       "\n",
       "    .dataframe tbody tr th {\n",
       "        vertical-align: top;\n",
       "    }\n",
       "\n",
       "    .dataframe thead th {\n",
       "        text-align: right;\n",
       "    }\n",
       "</style>\n",
       "<table border=\"1\" class=\"dataframe\">\n",
       "  <thead>\n",
       "    <tr style=\"text-align: right;\">\n",
       "      <th></th>\n",
       "      <th>attribute</th>\n",
       "      <th>information_level</th>\n",
       "      <th>type</th>\n",
       "      <th>missing_or_unknown</th>\n",
       "    </tr>\n",
       "  </thead>\n",
       "  <tbody>\n",
       "    <tr>\n",
       "      <th>42</th>\n",
       "      <td>ZABEOTYP</td>\n",
       "      <td>person</td>\n",
       "      <td>categorical</td>\n",
       "      <td>[-1,9]</td>\n",
       "    </tr>\n",
       "    <tr>\n",
       "      <th>41</th>\n",
       "      <td>VERS_TYP</td>\n",
       "      <td>person</td>\n",
       "      <td>categorical</td>\n",
       "      <td>[-1]</td>\n",
       "    </tr>\n",
       "    <tr>\n",
       "      <th>55</th>\n",
       "      <td>OST_WEST_KZ</td>\n",
       "      <td>building</td>\n",
       "      <td>categorical</td>\n",
       "      <td>[-1]</td>\n",
       "    </tr>\n",
       "    <tr>\n",
       "      <th>21</th>\n",
       "      <td>NATIONALITAET_KZ</td>\n",
       "      <td>person</td>\n",
       "      <td>categorical</td>\n",
       "      <td>[-1,0]</td>\n",
       "    </tr>\n",
       "    <tr>\n",
       "      <th>20</th>\n",
       "      <td>LP_STATUS_GROB</td>\n",
       "      <td>person</td>\n",
       "      <td>categorical</td>\n",
       "      <td>[0]</td>\n",
       "    </tr>\n",
       "  </tbody>\n",
       "</table>\n",
       "</div>"
      ],
      "text/plain": [
       "           attribute information_level         type missing_or_unknown\n",
       "42          ZABEOTYP            person  categorical             [-1,9]\n",
       "41          VERS_TYP            person  categorical               [-1]\n",
       "55       OST_WEST_KZ          building  categorical               [-1]\n",
       "21  NATIONALITAET_KZ            person  categorical             [-1,0]\n",
       "20    LP_STATUS_GROB            person  categorical                [0]"
      ]
     },
     "execution_count": 45,
     "metadata": {},
     "output_type": "execute_result"
    }
   ],
   "source": [
    "feat_info.sort_values('type').head()"
   ]
  },
  {
   "cell_type": "markdown",
   "metadata": {},
   "source": [
    "#### Step 1.2.1: Re-Encode Categorical Features\n",
    "\n",
    "For categorical data, you would ordinarily need to encode the levels as dummy variables. Depending on the number of categories, perform one of the following:\n",
    "- For binary (two-level) categoricals that take numeric values, you can keep them without needing to do anything.\n",
    "- There is one binary variable that takes on non-numeric values. For this one, you need to re-encode the values as numbers or create a dummy variable.\n",
    "- For multi-level categoricals (three or more values), you can choose to encode the values using multiple dummy variables (e.g. via [OneHotEncoder](http://scikit-learn.org/stable/modules/generated/sklearn.preprocessing.OneHotEncoder.html)), or (to keep things straightforward) just drop them from the analysis. As always, document your choices in the Discussion section."
   ]
  },
  {
   "cell_type": "code",
   "execution_count": 46,
   "metadata": {},
   "outputs": [],
   "source": [
    "# Assess categorical variables: which are binary, which are multi-level, and\n",
    "# which one needs to be re-encoded?\n",
    "\n"
   ]
  },
  {
   "cell_type": "code",
   "execution_count": 47,
   "metadata": {},
   "outputs": [],
   "source": [
    "#here im gonna create a column with only categorical values\n"
   ]
  },
  {
   "cell_type": "code",
   "execution_count": 48,
   "metadata": {},
   "outputs": [
    {
     "data": {
      "text/plain": [
       "2            ANREDE_KZ\n",
       "3        CJT_GESAMTTYP\n",
       "10           FINANZTYP\n",
       "12     GFK_URLAUBERTYP\n",
       "13    GREEN_AVANTGARDE\n",
       "17     LP_FAMILIE_FEIN\n",
       "18     LP_FAMILIE_GROB\n",
       "19      LP_STATUS_FEIN\n",
       "20      LP_STATUS_GROB\n",
       "21    NATIONALITAET_KZ\n",
       "38         SHOPPER_TYP\n",
       "39             SOHO_KZ\n",
       "41            VERS_TYP\n",
       "42            ZABEOTYP\n",
       "52         GEBAEUDETYP\n",
       "55         OST_WEST_KZ\n",
       "57     CAMEO_DEUG_2015\n",
       "58      CAMEO_DEU_2015\n",
       "Name: attribute, dtype: object"
      ]
     },
     "execution_count": 48,
     "metadata": {},
     "output_type": "execute_result"
    }
   ],
   "source": [
    "categorical = feat_info[feat_info[\"type\"]==\"categorical\"][\"attribute\"]\n",
    "categorical "
   ]
  },
  {
   "cell_type": "code",
   "execution_count": 49,
   "metadata": {},
   "outputs": [],
   "source": [
    "binary_feat = []\n",
    "multi_feat = []"
   ]
  },
  {
   "cell_type": "code",
   "execution_count": 50,
   "metadata": {},
   "outputs": [],
   "source": [
    "for indx in categorical:\n",
    "    if(len(azdias_sub2[indx].unique())==2):\n",
    "        binary_feat.append(indx)\n",
    "    elif (len(azdias_sub2[indx].unique())>2):\n",
    "        multi_feat.append(indx)"
   ]
  },
  {
   "cell_type": "code",
   "execution_count": 51,
   "metadata": {},
   "outputs": [
    {
     "name": "stdout",
     "output_type": "stream",
     "text": [
      "The binary features are: \n",
      "\n",
      "['ANREDE_KZ', 'GREEN_AVANTGARDE', 'SOHO_KZ', 'VERS_TYP', 'OST_WEST_KZ']\n",
      "\n",
      "The multi level features are: \n",
      "\n",
      "['CJT_GESAMTTYP', 'FINANZTYP', 'GFK_URLAUBERTYP', 'LP_FAMILIE_FEIN', 'LP_FAMILIE_GROB', 'LP_STATUS_FEIN', 'LP_STATUS_GROB', 'NATIONALITAET_KZ', 'SHOPPER_TYP', 'ZABEOTYP', 'GEBAEUDETYP', 'CAMEO_DEUG_2015', 'CAMEO_DEU_2015']\n"
     ]
    }
   ],
   "source": [
    "print(\"The binary features are: \\n\") \n",
    "print(binary_feat)\n",
    "\n",
    "print(\"\\nThe multi level features are: \\n\") \n",
    "print(multi_feat)"
   ]
  },
  {
   "cell_type": "code",
   "execution_count": 52,
   "metadata": {},
   "outputs": [
    {
     "data": {
      "text/plain": [
       "array([2, 1])"
      ]
     },
     "metadata": {},
     "output_type": "display_data"
    },
    {
     "data": {
      "text/plain": [
       "array([0, 1])"
      ]
     },
     "metadata": {},
     "output_type": "display_data"
    },
    {
     "data": {
      "text/plain": [
       "array([ 1.,  0.])"
      ]
     },
     "metadata": {},
     "output_type": "display_data"
    },
    {
     "data": {
      "text/plain": [
       "array([ 2.,  1.])"
      ]
     },
     "metadata": {},
     "output_type": "display_data"
    },
    {
     "data": {
      "text/plain": [
       "array(['W', 'O'], dtype=object)"
      ]
     },
     "metadata": {},
     "output_type": "display_data"
    }
   ],
   "source": [
    "for indx in binary_feat:\n",
    "    display(azdias_sub2[indx].unique())"
   ]
  },
  {
   "cell_type": "code",
   "execution_count": 53,
   "metadata": {},
   "outputs": [],
   "source": [
    "# Re-encode categorical variable(s) to be kept in the analysis.\n",
    "new_values = {'W': 0, 'O': 1}\n",
    "azdias_new = azdias_sub2.replace({'OST_WEST_KZ':new_values})"
   ]
  },
  {
   "cell_type": "code",
   "execution_count": 54,
   "metadata": {},
   "outputs": [],
   "source": [
    "# Drop multi-level features\n",
    "for feature in multi_feat:\n",
    "    azdias_new=azdias_new.drop(feature, axis=1)"
   ]
  },
  {
   "cell_type": "code",
   "execution_count": 55,
   "metadata": {},
   "outputs": [
    {
     "data": {
      "text/html": [
       "<div>\n",
       "<style scoped>\n",
       "    .dataframe tbody tr th:only-of-type {\n",
       "        vertical-align: middle;\n",
       "    }\n",
       "\n",
       "    .dataframe tbody tr th {\n",
       "        vertical-align: top;\n",
       "    }\n",
       "\n",
       "    .dataframe thead th {\n",
       "        text-align: right;\n",
       "    }\n",
       "</style>\n",
       "<table border=\"1\" class=\"dataframe\">\n",
       "  <thead>\n",
       "    <tr style=\"text-align: right;\">\n",
       "      <th></th>\n",
       "      <th>ALTERSKATEGORIE_GROB</th>\n",
       "      <th>ANREDE_KZ</th>\n",
       "      <th>FINANZ_MINIMALIST</th>\n",
       "      <th>FINANZ_SPARER</th>\n",
       "      <th>FINANZ_VORSORGER</th>\n",
       "      <th>FINANZ_ANLEGER</th>\n",
       "      <th>FINANZ_UNAUFFAELLIGER</th>\n",
       "      <th>FINANZ_HAUSBAUER</th>\n",
       "      <th>GREEN_AVANTGARDE</th>\n",
       "      <th>HEALTH_TYP</th>\n",
       "      <th>...</th>\n",
       "      <th>PLZ8_ANTG1</th>\n",
       "      <th>PLZ8_ANTG2</th>\n",
       "      <th>PLZ8_ANTG3</th>\n",
       "      <th>PLZ8_ANTG4</th>\n",
       "      <th>PLZ8_BAUMAX</th>\n",
       "      <th>PLZ8_HHZ</th>\n",
       "      <th>PLZ8_GBZ</th>\n",
       "      <th>ARBEIT</th>\n",
       "      <th>ORTSGR_KLS9</th>\n",
       "      <th>RELAT_AB</th>\n",
       "    </tr>\n",
       "  </thead>\n",
       "  <tbody>\n",
       "    <tr>\n",
       "      <th>1</th>\n",
       "      <td>1.0</td>\n",
       "      <td>2</td>\n",
       "      <td>1</td>\n",
       "      <td>5</td>\n",
       "      <td>2</td>\n",
       "      <td>5</td>\n",
       "      <td>4</td>\n",
       "      <td>5</td>\n",
       "      <td>0</td>\n",
       "      <td>3.0</td>\n",
       "      <td>...</td>\n",
       "      <td>2.0</td>\n",
       "      <td>3.0</td>\n",
       "      <td>2.0</td>\n",
       "      <td>1.0</td>\n",
       "      <td>1.0</td>\n",
       "      <td>5.0</td>\n",
       "      <td>4.0</td>\n",
       "      <td>3.0</td>\n",
       "      <td>5.0</td>\n",
       "      <td>4.0</td>\n",
       "    </tr>\n",
       "    <tr>\n",
       "      <th>2</th>\n",
       "      <td>3.0</td>\n",
       "      <td>2</td>\n",
       "      <td>1</td>\n",
       "      <td>4</td>\n",
       "      <td>1</td>\n",
       "      <td>2</td>\n",
       "      <td>3</td>\n",
       "      <td>5</td>\n",
       "      <td>1</td>\n",
       "      <td>3.0</td>\n",
       "      <td>...</td>\n",
       "      <td>3.0</td>\n",
       "      <td>3.0</td>\n",
       "      <td>1.0</td>\n",
       "      <td>0.0</td>\n",
       "      <td>1.0</td>\n",
       "      <td>4.0</td>\n",
       "      <td>4.0</td>\n",
       "      <td>3.0</td>\n",
       "      <td>5.0</td>\n",
       "      <td>2.0</td>\n",
       "    </tr>\n",
       "    <tr>\n",
       "      <th>4</th>\n",
       "      <td>3.0</td>\n",
       "      <td>1</td>\n",
       "      <td>4</td>\n",
       "      <td>3</td>\n",
       "      <td>4</td>\n",
       "      <td>1</td>\n",
       "      <td>3</td>\n",
       "      <td>2</td>\n",
       "      <td>0</td>\n",
       "      <td>3.0</td>\n",
       "      <td>...</td>\n",
       "      <td>2.0</td>\n",
       "      <td>4.0</td>\n",
       "      <td>2.0</td>\n",
       "      <td>1.0</td>\n",
       "      <td>2.0</td>\n",
       "      <td>3.0</td>\n",
       "      <td>3.0</td>\n",
       "      <td>4.0</td>\n",
       "      <td>6.0</td>\n",
       "      <td>5.0</td>\n",
       "    </tr>\n",
       "    <tr>\n",
       "      <th>5</th>\n",
       "      <td>1.0</td>\n",
       "      <td>2</td>\n",
       "      <td>3</td>\n",
       "      <td>1</td>\n",
       "      <td>5</td>\n",
       "      <td>2</td>\n",
       "      <td>2</td>\n",
       "      <td>5</td>\n",
       "      <td>0</td>\n",
       "      <td>3.0</td>\n",
       "      <td>...</td>\n",
       "      <td>2.0</td>\n",
       "      <td>3.0</td>\n",
       "      <td>1.0</td>\n",
       "      <td>1.0</td>\n",
       "      <td>1.0</td>\n",
       "      <td>5.0</td>\n",
       "      <td>5.0</td>\n",
       "      <td>2.0</td>\n",
       "      <td>3.0</td>\n",
       "      <td>3.0</td>\n",
       "    </tr>\n",
       "    <tr>\n",
       "      <th>6</th>\n",
       "      <td>2.0</td>\n",
       "      <td>2</td>\n",
       "      <td>1</td>\n",
       "      <td>5</td>\n",
       "      <td>1</td>\n",
       "      <td>5</td>\n",
       "      <td>4</td>\n",
       "      <td>3</td>\n",
       "      <td>0</td>\n",
       "      <td>2.0</td>\n",
       "      <td>...</td>\n",
       "      <td>3.0</td>\n",
       "      <td>3.0</td>\n",
       "      <td>1.0</td>\n",
       "      <td>0.0</td>\n",
       "      <td>1.0</td>\n",
       "      <td>5.0</td>\n",
       "      <td>5.0</td>\n",
       "      <td>4.0</td>\n",
       "      <td>6.0</td>\n",
       "      <td>3.0</td>\n",
       "    </tr>\n",
       "  </tbody>\n",
       "</table>\n",
       "<p>5 rows × 66 columns</p>\n",
       "</div>"
      ],
      "text/plain": [
       "   ALTERSKATEGORIE_GROB  ANREDE_KZ  FINANZ_MINIMALIST  FINANZ_SPARER  \\\n",
       "1                   1.0          2                  1              5   \n",
       "2                   3.0          2                  1              4   \n",
       "4                   3.0          1                  4              3   \n",
       "5                   1.0          2                  3              1   \n",
       "6                   2.0          2                  1              5   \n",
       "\n",
       "   FINANZ_VORSORGER  FINANZ_ANLEGER  FINANZ_UNAUFFAELLIGER  FINANZ_HAUSBAUER  \\\n",
       "1                 2               5                      4                 5   \n",
       "2                 1               2                      3                 5   \n",
       "4                 4               1                      3                 2   \n",
       "5                 5               2                      2                 5   \n",
       "6                 1               5                      4                 3   \n",
       "\n",
       "   GREEN_AVANTGARDE  HEALTH_TYP    ...     PLZ8_ANTG1  PLZ8_ANTG2  PLZ8_ANTG3  \\\n",
       "1                 0         3.0    ...            2.0         3.0         2.0   \n",
       "2                 1         3.0    ...            3.0         3.0         1.0   \n",
       "4                 0         3.0    ...            2.0         4.0         2.0   \n",
       "5                 0         3.0    ...            2.0         3.0         1.0   \n",
       "6                 0         2.0    ...            3.0         3.0         1.0   \n",
       "\n",
       "   PLZ8_ANTG4  PLZ8_BAUMAX  PLZ8_HHZ  PLZ8_GBZ  ARBEIT  ORTSGR_KLS9  RELAT_AB  \n",
       "1         1.0          1.0       5.0       4.0     3.0          5.0       4.0  \n",
       "2         0.0          1.0       4.0       4.0     3.0          5.0       2.0  \n",
       "4         1.0          2.0       3.0       3.0     4.0          6.0       5.0  \n",
       "5         1.0          1.0       5.0       5.0     2.0          3.0       3.0  \n",
       "6         0.0          1.0       5.0       5.0     4.0          6.0       3.0  \n",
       "\n",
       "[5 rows x 66 columns]"
      ]
     },
     "execution_count": 55,
     "metadata": {},
     "output_type": "execute_result"
    }
   ],
   "source": [
    "azdias_new.head()"
   ]
  },
  {
   "cell_type": "markdown",
   "metadata": {},
   "source": [
    "#### Discussion 1.2.1: Re-Encode Categorical Features\n",
    "\n",
    "In this step i re-encoded the attribute \"OST_WEST_KZ\" to keep it in the analysis, along with all other binary features. In addition, i dropped all Multi-level features."
   ]
  },
  {
   "cell_type": "markdown",
   "metadata": {},
   "source": [
    "#### Step 1.2.2: Engineer Mixed-Type Features\n",
    "\n",
    "There are a handful of features that are marked as \"mixed\" in the feature summary that require special treatment in order to be included in the analysis. There are two in particular that deserve attention; the handling of the rest are up to your own choices:\n",
    "- \"PRAEGENDE_JUGENDJAHRE\" combines information on three dimensions: generation by decade, movement (mainstream vs. avantgarde), and nation (east vs. west). While there aren't enough levels to disentangle east from west, you should create two new variables to capture the other two dimensions: an interval-type variable for decade, and a binary variable for movement.\n",
    "- \"CAMEO_INTL_2015\" combines information on two axes: wealth and life stage. Break up the two-digit codes by their 'tens'-place and 'ones'-place digits into two new ordinal variables (which, for the purposes of this project, is equivalent to just treating them as their raw numeric values).\n",
    "- If you decide to keep or engineer new features around the other mixed-type features, make sure you note your steps in the Discussion section.\n",
    "\n",
    "Be sure to check `Data_Dictionary.md` for the details needed to finish these tasks."
   ]
  },
  {
   "cell_type": "code",
   "execution_count": 56,
   "metadata": {},
   "outputs": [],
   "source": [
    "# Investigate \"PRAEGENDE_JUGENDJAHRE\" and engineer two new variables.\n",
    "azdias_new['DECADE'] = azdias_new['PRAEGENDE_JUGENDJAHRE']\n",
    "azdias_new['MOVEMENT'] = azdias_new['PRAEGENDE_JUGENDJAHRE']"
   ]
  },
  {
   "cell_type": "code",
   "execution_count": 57,
   "metadata": {},
   "outputs": [],
   "source": [
    "decade_dict = {1:1, 2:1, 3:2, 4:2, 5:3, 6:3, 7:3, 8:4, 9:4, 10:5, 11:5, 12:5, 13:5, 14:6, 15:6}\n",
    "movement_dict = {1:1, 2:0, 3:1, 4:0, 5:1, 6:0, 7:0, 8:1, 9:0, 10:1, 11:0, 12:1, 13:0, 14:1, 15:0}"
   ]
  },
  {
   "cell_type": "code",
   "execution_count": 58,
   "metadata": {},
   "outputs": [],
   "source": [
    "azdias_new['DECADE'].replace(decade_dict, inplace=True)\n",
    "azdias_new['MOVEMENT'].replace(movement_dict, inplace=True)"
   ]
  },
  {
   "cell_type": "code",
   "execution_count": 59,
   "metadata": {},
   "outputs": [],
   "source": [
    "# Investigate \"CAMEO_INTL_2015\" and engineer two new variables.\n",
    "azdias_new['WEALTH'] = azdias_new['CAMEO_INTL_2015']\n",
    "azdias_new['LIFE_STAGE'] = azdias_new['CAMEO_INTL_2015']\n"
   ]
  },
  {
   "cell_type": "code",
   "execution_count": 60,
   "metadata": {},
   "outputs": [],
   "source": [
    "wealth_dict = {'11':1, '12':1, '13':1, '14':1, '15':1, '21':2, '22':2, '23':2, '24':2, '25':2,\n",
    "               '31':3, '32':3, '33':3, '34':3, '35':3, '41':4, '42':4, '43':4, '44':4, '45':4,\n",
    "               '51':5, '52':5, '53':5, '54':5, '55':5}\n",
    "\n",
    "life_stage_dict = {'11':1, '12':2, '13':3, '14':4, '15':5, '21':1, '22':2, '23':3, '24':4, '25':5,\n",
    "                   '31':1, '32':2, '33':3, '34':4, '35':5, '41':1, '42':2, '43':3, '44':4, '45':5,\n",
    "                   '51':1, '52':2, '53':3, '54':4, '55':5}"
   ]
  },
  {
   "cell_type": "code",
   "execution_count": 61,
   "metadata": {},
   "outputs": [],
   "source": [
    "azdias_new['WEALTH'].replace(wealth_dict, inplace=True)\n",
    "azdias_new['LIFE_STAGE'].replace(life_stage_dict, inplace=True)"
   ]
  },
  {
   "cell_type": "markdown",
   "metadata": {},
   "source": [
    "#### Discussion 1.2.2: Engineer Mixed-Type Features\n",
    "\n",
    "\n",
    "I kept: PRAEGENDE_JUGENDJAHRE  and  CAMEO_INTL_2015\n",
    "\n",
    "Below is what I did to engineer the above two mixed-value features:\n",
    "\n",
    "As for the mixed value features, I created two new features that were identical to the original mixed feature column  by creating a dictionary that mapped the original values to the new feature values. \n",
    "\n",
    "In addition, I dropped the remaining mixed-values features."
   ]
  },
  {
   "cell_type": "markdown",
   "metadata": {},
   "source": [
    "#### Step 1.2.3: Complete Feature Selection\n",
    "\n",
    "In order to finish this step up, you need to make sure that your data frame now only has the columns that you want to keep. To summarize, the dataframe should consist of the following:\n",
    "- All numeric, interval, and ordinal type columns from the original dataset.\n",
    "- Binary categorical features (all numerically-encoded).\n",
    "- Engineered features from other multi-level categorical features and mixed features.\n",
    "\n",
    "Make sure that for any new columns that you have engineered, that you've excluded the original columns from the final dataset. Otherwise, their values will interfere with the analysis later on the project. For example, you should not keep \"PRAEGENDE_JUGENDJAHRE\", since its values won't be useful for the algorithm: only the values derived from it in the engineered features you created should be retained. As a reminder, your data should only be from **the subset with few or no missing values**."
   ]
  },
  {
   "cell_type": "code",
   "execution_count": 62,
   "metadata": {},
   "outputs": [],
   "source": [
    "# If there are other re-engineering tasks you need to perform, make sure you\n",
    "# take care of them here. (Dealing with missing data will come in step 2.1.)\n"
   ]
  },
  {
   "cell_type": "code",
   "execution_count": 63,
   "metadata": {},
   "outputs": [],
   "source": [
    "# Do whatever you need to in order to ensure that the dataframe only contains\n",
    "# the columns that should be passed to the algorithm functions.\n",
    "mixed_features = feat_info[feat_info[\"type\"]==\"mixed\"][\"attribute\"]\n",
    "for feature in mixed_features:\n",
    "    azdias_new.drop(feature, axis=1, inplace=True)"
   ]
  },
  {
   "cell_type": "markdown",
   "metadata": {},
   "source": [
    "### Step 1.3: Create a Cleaning Function\n",
    "\n",
    "Even though you've finished cleaning up the general population demographics data, it's important to look ahead to the future and realize that you'll need to perform the same cleaning steps on the customer demographics data. In this substep, complete the function below to execute the main feature selection, encoding, and re-engineering steps you performed above. Then, when it comes to looking at the customer data in Step 3, you can just run this function on that DataFrame to get the trimmed dataset in a single step."
   ]
  },
  {
   "cell_type": "code",
   "execution_count": 89,
   "metadata": {},
   "outputs": [],
   "source": [
    "def clean_data(df):\n",
    "    \"\"\"\n",
    "    Perform feature trimming, re-encoding, and engineering for demographics\n",
    "    data\n",
    "    \n",
    "    INPUT: Demographics DataFrame\n",
    "    OUTPUT: Trimmed and cleaned demographics DataFrame\n",
    "    \"\"\"\n",
    "    \n",
    "    # Put in code here to execute all main cleaning steps:\n",
    "    # convert missing value codes into NaNs, ...\n",
    "    \n",
    "    for indx in range(len(feat_info)):\n",
    "        missing_or_unknown = feat_info.iloc[indx]['missing_or_unknown']\n",
    "        missing_or_unknown = missing_or_unknown.strip('[')\n",
    "        missing_or_unknown = missing_or_unknown.strip(']')\n",
    "        missing_or_unknown = missing_or_unknown.split(sep=',')\n",
    "        missing_or_unknown = [int(value) if (value!='X' and value!='XX' and value!='') else value for value in missing_or_unknown]\n",
    "        if missing_or_unknown != ['']:\n",
    "            df_clean = df.replace({feat_info.iloc[indx]['attribute']: missing_or_unknown}, np.nan)\n",
    "    \n",
    "    for col in df.columns:\n",
    "        df_clean = df_clean.replace({col: ['XX', 'X']}, np.nan)\n",
    "        \n",
    "    # remove selected columns and rows, ...\n",
    "    # drop columns with more than 20% missing values\n",
    "    \n",
    "    missing_data_percentage = df_clean.isnull().sum() / len(azdias) * 100\n",
    "    outlier_columns = ['AGER_TYP', 'GEBURTSJAHR', 'TITEL_KZ', 'ALTER_HH', 'KK_KUNDENTYP', 'KBA05_BAUMAX']\n",
    "    \n",
    "    df_clean = df_clean.drop(outlier_columns, axis=1)\n",
    "    \n",
    "    # drop rows with more than 2 missing values\n",
    "    df_clean = df_clean[df_clean.isnull().sum(axis=1) <= 2]\n",
    "    # select, re-encode, and engineer column values.\n",
    "\n",
    "    # re-encode binary feature\n",
    "    new_values = {'W': 0, 'O': 1}\n",
    "    df_clean = df_clean.replace({'OST_WEST_KZ':new_values})\n",
    "    \n",
    "    # drop multi-leve features\n",
    "    cat_features = feat_info[feat_info[\"type\"]==\"categorical\"][\"attribute\"]\n",
    "    multi_level_feature=[]\n",
    "    for feature in cat_features:\n",
    "        if (len(azdias_sub2[feature].unique())>2):\n",
    "            multi_level_feature.append(feature)\n",
    "    for feature in multi_level_feature:\n",
    "        df_clean=df_clean.drop(feature, axis=1)\n",
    "    \n",
    "    # engineer mixed features\n",
    "    df_clean['DECADE'] = df_clean['PRAEGENDE_JUGENDJAHRE']\n",
    "    df_clean['MOVEMENT'] = df_clean['PRAEGENDE_JUGENDJAHRE']\n",
    "    \n",
    "    decade_dict = {1:1, 2:1, 3:2, 4:2, 5:3, 6:3, 7:3, 8:4, 9:4, 10:5, 11:5, 12:5, 13:5, 14:6, 15:6}\n",
    "    movement_dict = {1:1, 2:0, 3:1, 4:0, 5:1, 6:0, 7:0, 8:1, 9:0, 10:1, 11:0, 12:1, 13:0, 14:1, 15:0}\n",
    "    \n",
    "    df_clean['DECADE'].replace(decade_dict, inplace=True)\n",
    "    df_clean['MOVEMENT'].replace(movement_dict, inplace=True)\n",
    "    \n",
    "    df_clean['WEALTH'] = df_clean['CAMEO_INTL_2015']\n",
    "    df_clean['LIFE_STAGE'] = df_clean['CAMEO_INTL_2015']\n",
    "    \n",
    "    wealth_dict = {'11':1, '12':1, '13':1, '14':1, '15':1, '21':2, '22':2, '23':2, '24':2, '25':2,\n",
    "                   '31':3, '32':3, '33':3, '34':3, '35':3, '41':4, '42':4, '43':4, '44':4, '45':4,\n",
    "                   '51':5, '52':5, '53':5, '54':5, '55':5}\n",
    "    \n",
    "    life_stage_dict = {'11':1, '12':2, '13':3, '14':4, '15':5, '21':1, '22':2, '23':3, '24':4, '25':5,\n",
    "                       '31':1, '32':2, '33':3, '34':4, '35':5, '41':1, '42':2, '43':3, '44':4, '45':5,\n",
    "                       '51':1, '52':2, '53':3, '54':4, '55':5}\n",
    "    \n",
    "    df_clean['WEALTH'].replace(wealth_dict, inplace=True)\n",
    "    df_clean['LIFE_STAGE'].replace(life_stage_dict, inplace=True)\n",
    "    \n",
    "    mixed_features = feat_info[feat_info[\"type\"]==\"mixed\"][\"attribute\"]\n",
    "    for feature in mixed_features:\n",
    "        df_clean.drop(feature, axis=1, inplace=True)\n",
    "    \n",
    "    # Return the cleaned dataframe.\n",
    "    return df_clean\n",
    "    "
   ]
  },
  {
   "cell_type": "markdown",
   "metadata": {},
   "source": [
    "## Step 2: Feature Transformation\n",
    "\n",
    "### Step 2.1: Apply Feature Scaling\n",
    "\n",
    "Before we apply dimensionality reduction techniques to the data, we need to perform feature scaling so that the principal component vectors are not influenced by the natural differences in scale for features. Starting from this part of the project, you'll want to keep an eye on the [API reference page for sklearn](http://scikit-learn.org/stable/modules/classes.html) to help you navigate to all of the classes and functions that you'll need. In this substep, you'll need to check the following:\n",
    "\n",
    "- sklearn requires that data not have missing values in order for its estimators to work properly. So, before applying the scaler to your data, make sure that you've cleaned the DataFrame of the remaining missing values. This can be as simple as just removing all data points with missing data, or applying an [Imputer](http://scikit-learn.org/stable/modules/generated/sklearn.preprocessing.Imputer.html) to replace all missing values. You might also try a more complicated procedure where you temporarily remove missing values in order to compute the scaling parameters before re-introducing those missing values and applying imputation. Think about how much missing data you have and what possible effects each approach might have on your analysis, and justify your decision in the discussion section below.\n",
    "- For the actual scaling function, a [StandardScaler](http://scikit-learn.org/stable/modules/generated/sklearn.preprocessing.StandardScaler.html) instance is suggested, scaling each feature to mean 0 and standard deviation 1.\n",
    "- For these classes, you can make use of the `.fit_transform()` method to both fit a procedure to the data as well as apply the transformation to the data at the same time. Don't forget to keep the fit sklearn objects handy, since you'll be applying them to the customer demographics data towards the end of the project."
   ]
  },
  {
   "cell_type": "code",
   "execution_count": 65,
   "metadata": {},
   "outputs": [],
   "source": [
    "# If you've not yet cleaned the dataset of all NaN values, then investigate and\n",
    "# do that now.\n",
    "fill_missing = Imputer(strategy='mean')\n",
    "azdias_new_imputed = pd.DataFrame(fill_missing.fit_transform(azdias_new))"
   ]
  },
  {
   "cell_type": "code",
   "execution_count": 66,
   "metadata": {},
   "outputs": [],
   "source": [
    "azdias_new_imputed.columns = azdias_new.columns\n",
    "azdias_new_imputed.index = azdias_new.index"
   ]
  },
  {
   "cell_type": "code",
   "execution_count": 67,
   "metadata": {},
   "outputs": [],
   "source": [
    "# Apply feature scaling to the general population demographics data.\n",
    "scaler = StandardScaler() \n",
    "azdias_new_scaled = scaler.fit_transform(azdias_new_imputed)"
   ]
  },
  {
   "cell_type": "code",
   "execution_count": 68,
   "metadata": {},
   "outputs": [],
   "source": [
    "azdias_new_scaled = pd.DataFrame(azdias_new_scaled, columns=list(azdias_new_imputed))"
   ]
  },
  {
   "cell_type": "code",
   "execution_count": 69,
   "metadata": {},
   "outputs": [
    {
     "data": {
      "text/html": [
       "<div>\n",
       "<style scoped>\n",
       "    .dataframe tbody tr th:only-of-type {\n",
       "        vertical-align: middle;\n",
       "    }\n",
       "\n",
       "    .dataframe tbody tr th {\n",
       "        vertical-align: top;\n",
       "    }\n",
       "\n",
       "    .dataframe thead th {\n",
       "        text-align: right;\n",
       "    }\n",
       "</style>\n",
       "<table border=\"1\" class=\"dataframe\">\n",
       "  <thead>\n",
       "    <tr style=\"text-align: right;\">\n",
       "      <th></th>\n",
       "      <th>ALTERSKATEGORIE_GROB</th>\n",
       "      <th>ANREDE_KZ</th>\n",
       "      <th>FINANZ_MINIMALIST</th>\n",
       "      <th>FINANZ_SPARER</th>\n",
       "      <th>FINANZ_VORSORGER</th>\n",
       "      <th>FINANZ_ANLEGER</th>\n",
       "      <th>FINANZ_UNAUFFAELLIGER</th>\n",
       "      <th>FINANZ_HAUSBAUER</th>\n",
       "      <th>GREEN_AVANTGARDE</th>\n",
       "      <th>HEALTH_TYP</th>\n",
       "      <th>...</th>\n",
       "      <th>PLZ8_ANTG4</th>\n",
       "      <th>PLZ8_HHZ</th>\n",
       "      <th>PLZ8_GBZ</th>\n",
       "      <th>ARBEIT</th>\n",
       "      <th>ORTSGR_KLS9</th>\n",
       "      <th>RELAT_AB</th>\n",
       "      <th>DECADE</th>\n",
       "      <th>MOVEMENT</th>\n",
       "      <th>WEALTH</th>\n",
       "      <th>LIFE_STAGE</th>\n",
       "    </tr>\n",
       "  </thead>\n",
       "  <tbody>\n",
       "    <tr>\n",
       "      <th>0</th>\n",
       "      <td>-1.746613</td>\n",
       "      <td>0.975715</td>\n",
       "      <td>-1.509099</td>\n",
       "      <td>1.580889</td>\n",
       "      <td>-1.052775</td>\n",
       "      <td>1.537348</td>\n",
       "      <td>1.049672</td>\n",
       "      <td>1.321727</td>\n",
       "      <td>-0.549004</td>\n",
       "      <td>1.053059</td>\n",
       "      <td>...</td>\n",
       "      <td>0.380350</td>\n",
       "      <td>1.439991</td>\n",
       "      <td>0.585720</td>\n",
       "      <td>-0.203605</td>\n",
       "      <td>-0.173455</td>\n",
       "      <td>0.654921</td>\n",
       "      <td>1.164858</td>\n",
       "      <td>0.555230</td>\n",
       "      <td>1.140898</td>\n",
       "      <td>-1.248656</td>\n",
       "    </tr>\n",
       "    <tr>\n",
       "      <th>1</th>\n",
       "      <td>0.193103</td>\n",
       "      <td>0.975715</td>\n",
       "      <td>-1.509099</td>\n",
       "      <td>0.902592</td>\n",
       "      <td>-1.772863</td>\n",
       "      <td>-0.526093</td>\n",
       "      <td>0.321755</td>\n",
       "      <td>1.321727</td>\n",
       "      <td>1.821481</td>\n",
       "      <td>1.053059</td>\n",
       "      <td>...</td>\n",
       "      <td>-0.985402</td>\n",
       "      <td>0.399572</td>\n",
       "      <td>0.585720</td>\n",
       "      <td>-0.203605</td>\n",
       "      <td>-0.173455</td>\n",
       "      <td>-0.826007</td>\n",
       "      <td>1.164858</td>\n",
       "      <td>-1.818778</td>\n",
       "      <td>-0.917835</td>\n",
       "      <td>0.749750</td>\n",
       "    </tr>\n",
       "    <tr>\n",
       "      <th>2</th>\n",
       "      <td>0.193103</td>\n",
       "      <td>-1.024889</td>\n",
       "      <td>0.697489</td>\n",
       "      <td>0.224296</td>\n",
       "      <td>0.387400</td>\n",
       "      <td>-1.213907</td>\n",
       "      <td>0.321755</td>\n",
       "      <td>-0.869498</td>\n",
       "      <td>-0.549004</td>\n",
       "      <td>1.053059</td>\n",
       "      <td>...</td>\n",
       "      <td>0.380350</td>\n",
       "      <td>-0.640847</td>\n",
       "      <td>-0.312109</td>\n",
       "      <td>0.808035</td>\n",
       "      <td>0.262147</td>\n",
       "      <td>1.395385</td>\n",
       "      <td>-0.217162</td>\n",
       "      <td>0.555230</td>\n",
       "      <td>0.454654</td>\n",
       "      <td>0.083615</td>\n",
       "    </tr>\n",
       "    <tr>\n",
       "      <th>3</th>\n",
       "      <td>-1.746613</td>\n",
       "      <td>0.975715</td>\n",
       "      <td>-0.038040</td>\n",
       "      <td>-1.132297</td>\n",
       "      <td>1.107488</td>\n",
       "      <td>-0.526093</td>\n",
       "      <td>-0.406163</td>\n",
       "      <td>1.321727</td>\n",
       "      <td>-0.549004</td>\n",
       "      <td>1.053059</td>\n",
       "      <td>...</td>\n",
       "      <td>0.380350</td>\n",
       "      <td>1.439991</td>\n",
       "      <td>1.483550</td>\n",
       "      <td>-1.215245</td>\n",
       "      <td>-1.044660</td>\n",
       "      <td>-0.085543</td>\n",
       "      <td>-1.599182</td>\n",
       "      <td>0.555230</td>\n",
       "      <td>1.140898</td>\n",
       "      <td>0.749750</td>\n",
       "    </tr>\n",
       "    <tr>\n",
       "      <th>4</th>\n",
       "      <td>-0.776755</td>\n",
       "      <td>0.975715</td>\n",
       "      <td>-1.509099</td>\n",
       "      <td>1.580889</td>\n",
       "      <td>-1.772863</td>\n",
       "      <td>1.537348</td>\n",
       "      <td>1.049672</td>\n",
       "      <td>-0.139090</td>\n",
       "      <td>-0.549004</td>\n",
       "      <td>-0.267130</td>\n",
       "      <td>...</td>\n",
       "      <td>-0.985402</td>\n",
       "      <td>1.439991</td>\n",
       "      <td>1.483550</td>\n",
       "      <td>0.808035</td>\n",
       "      <td>0.262147</td>\n",
       "      <td>-0.085543</td>\n",
       "      <td>0.473848</td>\n",
       "      <td>0.555230</td>\n",
       "      <td>-0.917835</td>\n",
       "      <td>-0.582521</td>\n",
       "    </tr>\n",
       "  </tbody>\n",
       "</table>\n",
       "<p>5 rows × 64 columns</p>\n",
       "</div>"
      ],
      "text/plain": [
       "   ALTERSKATEGORIE_GROB  ANREDE_KZ  FINANZ_MINIMALIST  FINANZ_SPARER  \\\n",
       "0             -1.746613   0.975715          -1.509099       1.580889   \n",
       "1              0.193103   0.975715          -1.509099       0.902592   \n",
       "2              0.193103  -1.024889           0.697489       0.224296   \n",
       "3             -1.746613   0.975715          -0.038040      -1.132297   \n",
       "4             -0.776755   0.975715          -1.509099       1.580889   \n",
       "\n",
       "   FINANZ_VORSORGER  FINANZ_ANLEGER  FINANZ_UNAUFFAELLIGER  FINANZ_HAUSBAUER  \\\n",
       "0         -1.052775        1.537348               1.049672          1.321727   \n",
       "1         -1.772863       -0.526093               0.321755          1.321727   \n",
       "2          0.387400       -1.213907               0.321755         -0.869498   \n",
       "3          1.107488       -0.526093              -0.406163          1.321727   \n",
       "4         -1.772863        1.537348               1.049672         -0.139090   \n",
       "\n",
       "   GREEN_AVANTGARDE  HEALTH_TYP     ...      PLZ8_ANTG4  PLZ8_HHZ  PLZ8_GBZ  \\\n",
       "0         -0.549004    1.053059     ...        0.380350  1.439991  0.585720   \n",
       "1          1.821481    1.053059     ...       -0.985402  0.399572  0.585720   \n",
       "2         -0.549004    1.053059     ...        0.380350 -0.640847 -0.312109   \n",
       "3         -0.549004    1.053059     ...        0.380350  1.439991  1.483550   \n",
       "4         -0.549004   -0.267130     ...       -0.985402  1.439991  1.483550   \n",
       "\n",
       "     ARBEIT  ORTSGR_KLS9  RELAT_AB    DECADE  MOVEMENT    WEALTH  LIFE_STAGE  \n",
       "0 -0.203605    -0.173455  0.654921  1.164858  0.555230  1.140898   -1.248656  \n",
       "1 -0.203605    -0.173455 -0.826007  1.164858 -1.818778 -0.917835    0.749750  \n",
       "2  0.808035     0.262147  1.395385 -0.217162  0.555230  0.454654    0.083615  \n",
       "3 -1.215245    -1.044660 -0.085543 -1.599182  0.555230  1.140898    0.749750  \n",
       "4  0.808035     0.262147 -0.085543  0.473848  0.555230 -0.917835   -0.582521  \n",
       "\n",
       "[5 rows x 64 columns]"
      ]
     },
     "execution_count": 69,
     "metadata": {},
     "output_type": "execute_result"
    }
   ],
   "source": [
    "azdias_new_scaled.head()"
   ]
  },
  {
   "cell_type": "markdown",
   "metadata": {},
   "source": [
    "### Discussion 2.1: Apply Feature Scaling\n",
    "\n",
    "In order to fill missing values i used imputer with the mean strategy, and i applied feature scaling using standard scaling."
   ]
  },
  {
   "cell_type": "markdown",
   "metadata": {},
   "source": [
    "### Step 2.2: Perform Dimensionality Reduction\n",
    "\n",
    "On your scaled data, you are now ready to apply dimensionality reduction techniques.\n",
    "\n",
    "- Use sklearn's [PCA](http://scikit-learn.org/stable/modules/generated/sklearn.decomposition.PCA.html) class to apply principal component analysis on the data, thus finding the vectors of maximal variance in the data. To start, you should not set any parameters (so all components are computed) or set a number of components that is at least half the number of features (so there's enough features to see the general trend in variability).\n",
    "- Check out the ratio of variance explained by each principal component as well as the cumulative variance explained. Try plotting the cumulative or sequential values using matplotlib's [`plot()`](https://matplotlib.org/api/_as_gen/matplotlib.pyplot.plot.html) function. Based on what you find, select a value for the number of transformed features you'll retain for the clustering part of the project.\n",
    "- Once you've made a choice for the number of components to keep, make sure you re-fit a PCA instance to perform the decided-on transformation."
   ]
  },
  {
   "cell_type": "code",
   "execution_count": 70,
   "metadata": {},
   "outputs": [
    {
     "data": {
      "text/plain": [
       "PCA(copy=True, iterated_power='auto', n_components=None, random_state=None,\n",
       "  svd_solver='auto', tol=0.0, whiten=False)"
      ]
     },
     "execution_count": 70,
     "metadata": {},
     "output_type": "execute_result"
    }
   ],
   "source": [
    "# Apply PCA to the data.\n",
    "pca = PCA()\n",
    "pca.fit(azdias_new_scaled)"
   ]
  },
  {
   "cell_type": "code",
   "execution_count": 71,
   "metadata": {},
   "outputs": [
    {
     "data": {
      "image/png": "[encoded data removed]",
      "text/plain": [
       "<matplotlib.figure.Figure at 0x7f968f241630>"
      ]
     },
     "metadata": {
      "needs_background": "light"
     },
     "output_type": "display_data"
    }
   ],
   "source": [
    "# Investigate the variance accounted for by each principal component.\n",
    "plt.bar(range(len(pca.explained_variance_ratio_)), pca.explained_variance_ratio_)\n",
    "plt.title(\"Variance explained by each component\")\n",
    "plt.xlabel(\"Principal component\")\n",
    "plt.ylabel(\"Ratio of variance explained\")\n",
    "plt.show()\n"
   ]
  },
  {
   "cell_type": "code",
   "execution_count": 72,
   "metadata": {},
   "outputs": [
    {
     "data": {
      "image/png": "[encoded data removed]",
      "text/plain": [
       "<matplotlib.figure.Figure at 0x7f968f241320>"
      ]
     },
     "metadata": {
      "needs_background": "light"
     },
     "output_type": "display_data"
    }
   ],
   "source": [
    "# Re-apply PCA to the data while selecting for number of components to retain.\n",
    "\n",
    "plt.plot(range(len(pca.explained_variance_ratio_)),np.cumsum(pca.explained_variance_ratio_), '-')\n",
    "plt.title(\"Cumulative Variance Explained\")\n",
    "plt.xlabel(\"Number of Components\")\n",
    "plt.ylabel(\"Ratio of variance explained\")\n",
    "plt.show()"
   ]
  },
  {
   "cell_type": "code",
   "execution_count": 73,
   "metadata": {},
   "outputs": [],
   "source": [
    "pca_30 = PCA(n_components=30)\n",
    "azdias_pca = pca_30.fit_transform(azdias_new_scaled)"
   ]
  },
  {
   "cell_type": "markdown",
   "metadata": {},
   "source": [
    "### Discussion 2.2: Perform Dimensionality Reduction\n",
    "\n",
    "Using the plot above, i decided to retain 30 principal components."
   ]
  },
  {
   "cell_type": "markdown",
   "metadata": {},
   "source": [
    "### Step 2.3: Interpret Principal Components\n",
    "\n",
    "Now that we have our transformed principal components, it's a nice idea to check out the weight of each variable on the first few components to see if they can be interpreted in some fashion.\n",
    "\n",
    "As a reminder, each principal component is a unit vector that points in the direction of highest variance (after accounting for the variance captured by earlier principal components). The further a weight is from zero, the more the principal component is in the direction of the corresponding feature. If two features have large weights of the same sign (both positive or both negative), then increases in one tend expect to be associated with increases in the other. To contrast, features with different signs can be expected to show a negative correlation: increases in one variable should result in a decrease in the other.\n",
    "\n",
    "- To investigate the features, you should map each weight to their corresponding feature name, then sort the features according to weight. The most interesting features for each principal component, then, will be those at the beginning and end of the sorted list. Use the data dictionary document to help you understand these most prominent features, their relationships, and what a positive or negative value on the principal component might indicate.\n",
    "- You should investigate and interpret feature associations from the first three principal components in this substep. To help facilitate this, you should write a function that you can call at any time to print the sorted list of feature weights, for the *i*-th principal component. This might come in handy in the next step of the project, when you interpret the tendencies of the discovered clusters."
   ]
  },
  {
   "cell_type": "code",
   "execution_count": 74,
   "metadata": {},
   "outputs": [],
   "source": [
    "# Map weights for the first principal component to corresponding feature names\n",
    "# and then print the linked values, sorted by weight.\n",
    "# HINT: Try defining a function here or in a new cell that you can reuse in the\n",
    "# other cells.\n",
    "\n",
    "def pca_weights(pca, i):\n",
    "    df = pd.DataFrame(pca.components_, columns=list(azdias_new_scaled.columns))\n",
    "    weights = df.iloc[i].sort_values(ascending=False)\n",
    "    return weights"
   ]
  },
  {
   "cell_type": "code",
   "execution_count": 75,
   "metadata": {},
   "outputs": [
    {
     "name": "stdout",
     "output_type": "stream",
     "text": [
      "PLZ8_ANTG3               0.215375\n",
      "PLZ8_ANTG4               0.209106\n",
      "WEALTH                   0.198238\n",
      "HH_EINKOMMEN_SCORE       0.195920\n",
      "ORTSGR_KLS9              0.185947\n",
      "EWDICHTE                 0.182915\n",
      "FINANZ_SPARER            0.162928\n",
      "KBA05_ANTG4              0.146386\n",
      "FINANZ_HAUSBAUER         0.146371\n",
      "PLZ8_ANTG2               0.142582\n",
      "ARBEIT                   0.138376\n",
      "SEMIO_PFLICHT            0.131853\n",
      "KBA05_ANTG3              0.131484\n",
      "ANZ_HAUSHALTE_AKTIV      0.129938\n",
      "SEMIO_REL                0.128726\n",
      "RELAT_AB                 0.126137\n",
      "DECADE                   0.125320\n",
      "SEMIO_TRADV              0.117948\n",
      "MOVEMENT                 0.115519\n",
      "SEMIO_RAT                0.108265\n",
      "SEMIO_MAT                0.096154\n",
      "SEMIO_FAM                0.092850\n",
      "FINANZ_UNAUFFAELLIGER    0.092526\n",
      "SEMIO_KULT               0.090293\n",
      "FINANZ_ANLEGER           0.085269\n",
      "REGIOTYP                 0.072706\n",
      "OST_WEST_KZ              0.060412\n",
      "SEMIO_SOZ                0.051623\n",
      "KKK                      0.045922\n",
      "HEALTH_TYP               0.037943\n",
      "                           ...   \n",
      "VERS_TYP                 0.018804\n",
      "SEMIO_DOM                0.013682\n",
      "KBA05_ANTG2              0.007024\n",
      "SOHO_KZ                 -0.001986\n",
      "ANREDE_KZ               -0.003258\n",
      "ANZ_TITEL               -0.005799\n",
      "SEMIO_KRIT              -0.006864\n",
      "ONLINE_AFFINITAET       -0.024900\n",
      "SEMIO_VERT              -0.025448\n",
      "MIN_GEBAEUDEJAHR        -0.034700\n",
      "RETOURTYP_BK_S          -0.037337\n",
      "WOHNDAUER_2008          -0.068761\n",
      "ANZ_PERSONEN            -0.077474\n",
      "KBA13_ANZAHL_PKW        -0.079443\n",
      "SEMIO_ERL               -0.102556\n",
      "SEMIO_LUST              -0.103755\n",
      "GEBAEUDETYP_RASTER      -0.111612\n",
      "GREEN_AVANTGARDE        -0.115626\n",
      "BALLRAUM                -0.118189\n",
      "LIFE_STAGE              -0.125824\n",
      "FINANZ_VORSORGER        -0.133603\n",
      "ALTERSKATEGORIE_GROB    -0.144503\n",
      "INNENSTADT              -0.155511\n",
      "KONSUMNAEHE             -0.157279\n",
      "PLZ8_GBZ                -0.164094\n",
      "KBA05_GBZ               -0.208705\n",
      "PLZ8_ANTG1              -0.217039\n",
      "KBA05_ANTG1             -0.219330\n",
      "FINANZ_MINIMALIST       -0.222294\n",
      "MOBI_REGIO              -0.233840\n",
      "Name: 0, Length: 64, dtype: float64\n"
     ]
    }
   ],
   "source": [
    "pca_weight_0 = pca_weights(pca_30, 0)\n",
    "print (pca_weight_0)"
   ]
  },
  {
   "cell_type": "code",
   "execution_count": 76,
   "metadata": {},
   "outputs": [
    {
     "name": "stdout",
     "output_type": "stream",
     "text": [
      "ALTERSKATEGORIE_GROB     0.247263\n",
      "SEMIO_ERL                0.225054\n",
      "FINANZ_VORSORGER         0.215812\n",
      "SEMIO_LUST               0.172228\n",
      "RETOURTYP_BK_S           0.162323\n",
      "FINANZ_HAUSBAUER         0.129976\n",
      "SEMIO_KRIT               0.120914\n",
      "W_KEIT_KIND_HH           0.120592\n",
      "PLZ8_ANTG3               0.114576\n",
      "SEMIO_KAEM               0.113633\n",
      "PLZ8_ANTG4               0.110290\n",
      "EWDICHTE                 0.107438\n",
      "ORTSGR_KLS9              0.107127\n",
      "WEALTH                   0.091330\n",
      "ANREDE_KZ                0.089625\n",
      "KBA05_ANTG4              0.084842\n",
      "ARBEIT                   0.080556\n",
      "PLZ8_ANTG2               0.075527\n",
      "RELAT_AB                 0.075397\n",
      "ANZ_HAUSHALTE_AKTIV      0.074049\n",
      "SEMIO_DOM                0.068861\n",
      "HH_EINKOMMEN_SCORE       0.067684\n",
      "KBA05_ANTG3              0.058519\n",
      "WOHNDAUER_2008           0.053387\n",
      "FINANZ_MINIMALIST        0.043706\n",
      "OST_WEST_KZ              0.036303\n",
      "ANZ_HH_TITEL             0.033493\n",
      "REGIOTYP                 0.031146\n",
      "VERS_TYP                 0.031141\n",
      "MOVEMENT                 0.028836\n",
      "                           ...   \n",
      "KBA05_ANTG2             -0.010551\n",
      "LIFE_STAGE              -0.014648\n",
      "MIN_GEBAEUDEJAHR        -0.030388\n",
      "GREEN_AVANTGARDE        -0.031220\n",
      "KBA13_ANZAHL_PKW        -0.044510\n",
      "HEALTH_TYP              -0.051311\n",
      "GEBAEUDETYP_RASTER      -0.053169\n",
      "ANZ_PERSONEN            -0.068804\n",
      "BALLRAUM                -0.070598\n",
      "SEMIO_VERT              -0.070696\n",
      "KONSUMNAEHE             -0.081303\n",
      "INNENSTADT              -0.089026\n",
      "PLZ8_GBZ                -0.089825\n",
      "SEMIO_SOZ               -0.099804\n",
      "KBA05_ANTG1             -0.104200\n",
      "KBA05_GBZ               -0.110773\n",
      "PLZ8_ANTG1              -0.113402\n",
      "MOBI_REGIO              -0.114012\n",
      "SEMIO_MAT               -0.146822\n",
      "SEMIO_RAT               -0.162875\n",
      "ONLINE_AFFINITAET       -0.164531\n",
      "SEMIO_FAM               -0.172277\n",
      "FINANZ_ANLEGER          -0.195514\n",
      "SEMIO_KULT              -0.213008\n",
      "FINANZ_UNAUFFAELLIGER   -0.217989\n",
      "SEMIO_TRADV             -0.219240\n",
      "FINANZ_SPARER           -0.220050\n",
      "SEMIO_PFLICHT           -0.225826\n",
      "DECADE                  -0.235074\n",
      "SEMIO_REL               -0.252335\n",
      "Name: 1, Length: 64, dtype: float64\n"
     ]
    }
   ],
   "source": [
    "# Map weights for the second principal component to corresponding feature names\n",
    "# and then print the linked values, sorted by weight.\n",
    "pca_weight_1 = pca_weights(pca_30, 1)\n",
    "print (pca_weight_1)"
   ]
  },
  {
   "cell_type": "code",
   "execution_count": 77,
   "metadata": {},
   "outputs": [
    {
     "name": "stdout",
     "output_type": "stream",
     "text": [
      "SEMIO_VERT               0.348658\n",
      "SEMIO_SOZ                0.262883\n",
      "SEMIO_FAM                0.251928\n",
      "SEMIO_KULT               0.231293\n",
      "FINANZ_MINIMALIST        0.157040\n",
      "RETOURTYP_BK_S           0.115498\n",
      "FINANZ_VORSORGER         0.097703\n",
      "W_KEIT_KIND_HH           0.093684\n",
      "ALTERSKATEGORIE_GROB     0.082166\n",
      "SEMIO_REL                0.077014\n",
      "SEMIO_LUST               0.073232\n",
      "GREEN_AVANTGARDE         0.050505\n",
      "SEMIO_MAT                0.050456\n",
      "EWDICHTE                 0.048470\n",
      "ORTSGR_KLS9              0.048316\n",
      "PLZ8_ANTG4               0.046048\n",
      "PLZ8_ANTG3               0.045423\n",
      "WOHNDAUER_2008           0.035057\n",
      "ARBEIT                   0.032615\n",
      "RELAT_AB                 0.030842\n",
      "PLZ8_ANTG2               0.029993\n",
      "KBA05_ANTG4              0.028795\n",
      "ANZ_HAUSHALTE_AKTIV      0.026441\n",
      "WEALTH                   0.024577\n",
      "VERS_TYP                 0.017191\n",
      "ANZ_HH_TITEL             0.014495\n",
      "OST_WEST_KZ              0.012464\n",
      "ANZ_TITEL                0.010645\n",
      "KBA05_ANTG3              0.006819\n",
      "PLZ8_HHZ                 0.006664\n",
      "                           ...   \n",
      "MIN_GEBAEUDEJAHR        -0.010139\n",
      "KBA05_ANTG2             -0.012019\n",
      "HEALTH_TYP              -0.012141\n",
      "KKK                     -0.016757\n",
      "KBA13_ANZAHL_PKW        -0.021491\n",
      "KBA05_ANTG1             -0.023343\n",
      "HH_EINKOMMEN_SCORE      -0.026115\n",
      "KBA05_GBZ               -0.027371\n",
      "MOBI_REGIO              -0.030369\n",
      "GEBAEUDETYP_RASTER      -0.031230\n",
      "BALLRAUM                -0.036656\n",
      "PLZ8_GBZ                -0.037129\n",
      "KONSUMNAEHE             -0.039113\n",
      "INNENSTADT              -0.044533\n",
      "PLZ8_ANTG1              -0.045803\n",
      "FINANZ_HAUSBAUER        -0.047507\n",
      "MOVEMENT                -0.051075\n",
      "ONLINE_AFFINITAET       -0.055240\n",
      "SEMIO_PFLICHT           -0.076694\n",
      "SEMIO_TRADV             -0.085135\n",
      "FINANZ_UNAUFFAELLIGER   -0.092546\n",
      "FINANZ_SPARER           -0.101000\n",
      "DECADE                  -0.106758\n",
      "SEMIO_ERL               -0.169185\n",
      "FINANZ_ANLEGER          -0.186948\n",
      "SEMIO_RAT               -0.218428\n",
      "SEMIO_KRIT              -0.270248\n",
      "SEMIO_DOM               -0.313651\n",
      "SEMIO_KAEM              -0.337776\n",
      "ANREDE_KZ               -0.367959\n",
      "Name: 2, Length: 64, dtype: float64\n"
     ]
    }
   ],
   "source": [
    "# Map weights for the third principal component to corresponding feature names\n",
    "# and then print the linked values, sorted by weight.\n",
    "pca_weight_2= pca_weights(pca_30, 2)\n",
    "print (pca_weight_2)\n"
   ]
  },
  {
   "cell_type": "markdown",
   "metadata": {},
   "source": [
    "### Discussion 2.3: Interpret Principal Components\n",
    "\n",
    "\n",
    "PLZ8_ANTG3 and PLZ8_ANTG4 have a positive correlation, where the share of 10+ family homes and the share of 6-10 family homes for macro-cells tend to increase together.\n",
    "\n",
    "\n",
    "PLZ8_ANTG3 and WEALTH also have a positive correlation, where the share of 6-10 family homes in a macro-cell increases, it tends to have more poor households.\n",
    "\n",
    "\n",
    "MOBI_REGIO and PLZ8_ANTG3 have a negative correlation, where the share of 6-10 family homes in a macro-cell increases tend to have higher movements."
   ]
  },
  {
   "cell_type": "markdown",
   "metadata": {},
   "source": [
    "## Step 3: Clustering\n",
    "\n",
    "### Step 3.1: Apply Clustering to General Population\n",
    "\n",
    "You've assessed and cleaned the demographics data, then scaled and transformed them. Now, it's time to see how the data clusters in the principal components space. In this substep, you will apply k-means clustering to the dataset and use the average within-cluster distances from each point to their assigned cluster's centroid to decide on a number of clusters to keep.\n",
    "\n",
    "- Use sklearn's [KMeans](http://scikit-learn.org/stable/modules/generated/sklearn.cluster.KMeans.html#sklearn.cluster.KMeans) class to perform k-means clustering on the PCA-transformed data.\n",
    "- Then, compute the average difference from each point to its assigned cluster's center. **Hint**: The KMeans object's `.score()` method might be useful here, but note that in sklearn, scores tend to be defined so that larger is better. Try applying it to a small, toy dataset, or use an internet search to help your understanding.\n",
    "- Perform the above two steps for a number of different cluster counts. You can then see how the average distance decreases with an increasing number of clusters. However, each additional cluster provides a smaller net benefit. Use this fact to select a final number of clusters in which to group the data. **Warning**: because of the large size of the dataset, it can take a long time for the algorithm to resolve. The more clusters to fit, the longer the algorithm will take. You should test for cluster counts through at least 10 clusters to get the full picture, but you shouldn't need to test for a number of clusters above about 30.\n",
    "- Once you've selected a final number of clusters to use, re-fit a KMeans instance to perform the clustering operation. Make sure that you also obtain the cluster assignments for the general demographics data, since you'll be using them in the final Step 3.3."
   ]
  },
  {
   "cell_type": "code",
   "execution_count": 78,
   "metadata": {},
   "outputs": [],
   "source": [
    "def k_mean_score(data, n):\n",
    "    kmeans = KMeans(n_clusters = n)\n",
    "    model = kmeans.fit(data)\n",
    "    score = np.abs(model.score(data))\n",
    "    print(\"score = \")\n",
    "    print(score)\n",
    "    return score"
   ]
  },
  {
   "cell_type": "code",
   "execution_count": 79,
   "metadata": {},
   "outputs": [],
   "source": [
    "scores = []"
   ]
  },
  {
   "cell_type": "code",
   "execution_count": 80,
   "metadata": {},
   "outputs": [],
   "source": [
    "ks = list(range(1,20))"
   ]
  },
  {
   "cell_type": "code",
   "execution_count": 81,
   "metadata": {
    "scrolled": true
   },
   "outputs": [
    {
     "name": "stdout",
     "output_type": "stream",
     "text": [
      "score = \n",
      "36243741.362\n",
      "score = \n",
      "36243741.362\n",
      "score = \n",
      "30969076.5228\n",
      "score = \n",
      "30969074.6377\n",
      "score = \n",
      "28018508.2554\n",
      "score = \n",
      "28018512.1861\n",
      "score = \n",
      "26386598.8689\n",
      "score = \n",
      "26338813.6645\n",
      "score = \n",
      "25122695.0549\n",
      "score = \n",
      "25122697.364\n",
      "score = \n",
      "24086452.1132\n",
      "score = \n",
      "24128327.674\n",
      "score = \n",
      "23178605.9209\n",
      "score = \n",
      "23178611.9849\n",
      "score = \n",
      "22470128.2535\n",
      "score = \n",
      "22470127.5377\n",
      "score = \n",
      "21983829.0071\n",
      "score = \n",
      "21983829.5382\n",
      "score = \n",
      "21507848.5175\n",
      "score = \n",
      "21507848.06\n",
      "score = \n",
      "21029502.5066\n",
      "score = \n",
      "21031413.6273\n",
      "score = \n",
      "20570651.1693\n",
      "score = \n",
      "20570673.2373\n",
      "score = \n",
      "20266109.5792\n",
      "score = \n",
      "20060082.6184\n",
      "score = \n",
      "19848017.0839\n",
      "score = \n",
      "19847776.4162\n",
      "score = \n",
      "19778993.2751\n",
      "score = \n",
      "19827432.0651\n",
      "score = \n",
      "19512886.2373\n",
      "score = \n",
      "19311506.5521\n",
      "score = \n",
      "19404244.8208\n",
      "score = \n",
      "19106921.9768\n",
      "score = \n",
      "19106360.4392\n",
      "score = \n",
      "18873851.4199\n",
      "score = \n",
      "18699366.3974\n",
      "score = \n",
      "18738740.6575\n"
     ]
    }
   ],
   "source": [
    "for k in ks:\n",
    "    kms = k_mean_score(azdias_pca, k)\n",
    "    scores.append(k_mean_score(azdias_pca, k))"
   ]
  },
  {
   "cell_type": "code",
   "execution_count": 82,
   "metadata": {},
   "outputs": [
    {
     "data": {
      "text/plain": [
       "[36243741.362000249,\n",
       " 30969074.637715816,\n",
       " 28018512.186095361,\n",
       " 26338813.664519705,\n",
       " 25122697.3639508,\n",
       " 24128327.674030893,\n",
       " 23178611.984887604,\n",
       " 22470127.537660144,\n",
       " 21983829.538164806,\n",
       " 21507848.060000766,\n",
       " 21031413.627300531,\n",
       " 20570673.23733015,\n",
       " 20060082.618429121,\n",
       " 19847776.416233361,\n",
       " 19827432.065120012,\n",
       " 19311506.552072346,\n",
       " 19106921.976812311,\n",
       " 18873851.41987206,\n",
       " 18738740.65748594]"
      ]
     },
     "execution_count": 82,
     "metadata": {},
     "output_type": "execute_result"
    }
   ],
   "source": [
    "scores"
   ]
  },
  {
   "cell_type": "code",
   "execution_count": 83,
   "metadata": {},
   "outputs": [
    {
     "data": {
      "text/plain": [
       "Text(0,0.5,'SSE')"
      ]
     },
     "execution_count": 83,
     "metadata": {},
     "output_type": "execute_result"
    },
    {
     "data": {
      "image/png": "[encoded data removed]",
      "text/plain": [
       "<matplotlib.figure.Figure at 0x7f96958904a8>"
      ]
     },
     "metadata": {
      "needs_background": "light"
     },
     "output_type": "display_data"
    }
   ],
   "source": [
    "# Investigate the change in within-cluster distance across number of clusters.\n",
    "# HINT: Use matplotlib's plot function to visualize this relationship.\n",
    "plt.plot(ks, scores, linestyle='-', marker='o')\n",
    "plt.xlabel('K')\n",
    "plt.ylabel('SSE')\n"
   ]
  },
  {
   "cell_type": "code",
   "execution_count": 84,
   "metadata": {},
   "outputs": [],
   "source": [
    "# Re-fit the k-means model with the selected number of clusters and obtain\n",
    "# cluster predictions for the general population demographics data.\n",
    "\n",
    "kmeans = KMeans(n_clusters = 14)\n",
    "model_14 = kmeans.fit(azdias_pca)\n",
    "azdias_pred = model_14.predict(azdias_pca)\n"
   ]
  },
  {
   "cell_type": "markdown",
   "metadata": {},
   "source": [
    "### Discussion 3.1: Apply Clustering to General Population\n",
    "\n",
    "Using the plot aboce, I decided to use 14 clusters."
   ]
  },
  {
   "cell_type": "markdown",
   "metadata": {},
   "source": [
    "### Step 3.2: Apply All Steps to the Customer Data\n",
    "\n",
    "Now that you have clusters and cluster centers for the general population, it's time to see how the customer data maps on to those clusters. Take care to not confuse this for re-fitting all of the models to the customer data. Instead, you're going to use the fits from the general population to clean, transform, and cluster the customer data. In the last step of the project, you will interpret how the general population fits apply to the customer data.\n",
    "\n",
    "- Don't forget when loading in the customers data, that it is semicolon (`;`) delimited.\n",
    "- Apply the same feature wrangling, selection, and engineering steps to the customer demographics using the `clean_data()` function you created earlier. (You can assume that the customer demographics data has similar meaning behind missing data patterns as the general demographics data.)\n",
    "- Use the sklearn objects from the general demographics data, and apply their transformations to the customers data. That is, you should not be using a `.fit()` or `.fit_transform()` method to re-fit the old objects, nor should you be creating new sklearn objects! Carry the data through the feature scaling, PCA, and clustering steps, obtaining cluster assignments for all of the data in the customer demographics data."
   ]
  },
  {
   "cell_type": "code",
   "execution_count": 85,
   "metadata": {},
   "outputs": [],
   "source": [
    "# Load in the customer demographics data.\n",
    "customers = pd.read_csv('Udacity_CUSTOMERS_Subset.csv', sep=';')"
   ]
  },
  {
   "cell_type": "code",
   "execution_count": 90,
   "metadata": {},
   "outputs": [],
   "source": [
    "# Apply preprocessing, feature transformation, and clustering from the general\n",
    "# demographics onto the customer data, obtaining cluster predictions for the\n",
    "# customer demographics data.\n",
    "customers_clean = clean_data(customers)\n"
   ]
  },
  {
   "cell_type": "code",
   "execution_count": 91,
   "metadata": {},
   "outputs": [],
   "source": [
    "customers_clean_imputed = pd.DataFrame(fill_missing.fit_transform(customers_clean))\n",
    "customers_clean_imputed.columns = customers_clean.columns\n",
    "customers_clean_imputed.index = customers_clean.index"
   ]
  },
  {
   "cell_type": "code",
   "execution_count": 92,
   "metadata": {},
   "outputs": [],
   "source": [
    "customers_clean_scaled = scaler.transform(customers_clean_imputed)\n",
    "customers_clean_scaled = pd.DataFrame(customers_clean_scaled, columns=list(customers_clean_imputed))\n",
    "# PCA transformation\n",
    "customers_pca = pca_30.transform(customers_clean_scaled)"
   ]
  },
  {
   "cell_type": "code",
   "execution_count": 93,
   "metadata": {},
   "outputs": [],
   "source": [
    "customers_pred = model_14.predict(customers_pca)"
   ]
  },
  {
   "cell_type": "markdown",
   "metadata": {},
   "source": [
    "### Step 3.3: Compare Customer Data to Demographics Data\n",
    "\n",
    "At this point, you have clustered data based on demographics of the general population of Germany, and seen how the customer data for a mail-order sales company maps onto those demographic clusters. In this final substep, you will compare the two cluster distributions to see where the strongest customer base for the company is.\n",
    "\n",
    "Consider the proportion of persons in each cluster for the general population, and the proportions for the customers. If we think the company's customer base to be universal, then the cluster assignment proportions should be fairly similar between the two. If there are only particular segments of the population that are interested in the company's products, then we should see a mismatch from one to the other. If there is a higher proportion of persons in a cluster for the customer data compared to the general population (e.g. 5% of persons are assigned to a cluster for the general population, but 15% of the customer data is closest to that cluster's centroid) then that suggests the people in that cluster to be a target audience for the company. On the other hand, the proportion of the data in a cluster being larger in the general population than the customer data (e.g. only 2% of customers closest to a population centroid that captures 6% of the data) suggests that group of persons to be outside of the target demographics.\n",
    "\n",
    "Take a look at the following points in this step:\n",
    "\n",
    "- Compute the proportion of data points in each cluster for the general population and the customer data. Visualizations will be useful here: both for the individual dataset proportions, but also to visualize the ratios in cluster representation between groups. Seaborn's [`countplot()`](https://seaborn.pydata.org/generated/seaborn.countplot.html) or [`barplot()`](https://seaborn.pydata.org/generated/seaborn.barplot.html) function could be handy.\n",
    "  - Recall the analysis you performed in step 1.1.3 of the project, where you separated out certain data points from the dataset if they had more than a specified threshold of missing values. If you found that this group was qualitatively different from the main bulk of the data, you should treat this as an additional data cluster in this analysis. Make sure that you account for the number of data points in this subset, for both the general population and customer datasets, when making your computations!\n",
    "- Which cluster or clusters are overrepresented in the customer dataset compared to the general population? Select at least one such cluster and infer what kind of people might be represented by that cluster. Use the principal component interpretations from step 2.3 or look at additional components to help you make this inference. Alternatively, you can use the `.inverse_transform()` method of the PCA and StandardScaler objects to transform centroids back to the original data space and interpret the retrieved values directly.\n",
    "- Perform a similar investigation for the underrepresented clusters. Which cluster or clusters are underrepresented in the customer dataset compared to the general population, and what kinds of people are typified by these clusters?"
   ]
  },
  {
   "cell_type": "code",
   "execution_count": null,
   "metadata": {},
   "outputs": [],
   "source": []
  },
  {
   "cell_type": "code",
   "execution_count": 94,
   "metadata": {},
   "outputs": [
    {
     "data": {
      "text/plain": [
       "Text(0.5,1,'General Clusters')"
      ]
     },
     "execution_count": 94,
     "metadata": {},
     "output_type": "execute_result"
    },
    {
     "data": {
      "image/png": "[encoded data removed]",
      "text/plain": [
       "<matplotlib.figure.Figure at 0x7f968f2f2550>"
      ]
     },
     "metadata": {
      "needs_background": "light"
     },
     "output_type": "display_data"
    }
   ],
   "source": [
    "# Compare the proportion of data in each cluster for the customer data to the\n",
    "# proportion of data in each cluster for the general population.\n",
    "\n",
    "figure, axs = plt.subplots(nrows=1, ncols=2, figsize = (10,5))\n",
    "figure.subplots_adjust(hspace = 1, wspace=.3)\n",
    "\n",
    "sns.countplot(customers_pred, ax=axs[0])\n",
    "axs[0].set_title('Customer Clusters')\n",
    "sns.countplot(azdias_pred, ax=axs[1])\n",
    "axs[1].set_title('General Clusters')"
   ]
  },
  {
   "cell_type": "code",
   "execution_count": null,
   "metadata": {},
   "outputs": [],
   "source": []
  },
  {
   "cell_type": "code",
   "execution_count": 95,
   "metadata": {},
   "outputs": [],
   "source": [
    "# What kinds of people are part of a cluster that is overrepresented in the\n",
    "# customer data compared to the general population?\n",
    "centroid_4 = scaler.inverse_transform(pca_30.inverse_transform(model_14.cluster_centers_[4]))\n"
   ]
  },
  {
   "cell_type": "code",
   "execution_count": 100,
   "metadata": {},
   "outputs": [
    {
     "data": {
      "text/plain": [
       "ALTERSKATEGORIE_GROB        1.610403\n",
       "ANREDE_KZ                   1.996243\n",
       "FINANZ_MINIMALIST           2.289496\n",
       "FINANZ_SPARER               3.961999\n",
       "FINANZ_VORSORGER            2.256003\n",
       "FINANZ_ANLEGER              4.369852\n",
       "FINANZ_UNAUFFAELLIGER       3.810297\n",
       "FINANZ_HAUSBAUER            2.937538\n",
       "GREEN_AVANTGARDE            0.204717\n",
       "HEALTH_TYP                  2.198870\n",
       "RETOURTYP_BK_S              2.410399\n",
       "SEMIO_SOZ                   2.701892\n",
       "SEMIO_FAM                   3.663244\n",
       "SEMIO_REL                   5.255927\n",
       "SEMIO_MAT                   5.168480\n",
       "SEMIO_VERT                  2.415733\n",
       "SEMIO_LUST                  2.961862\n",
       "SEMIO_ERL                   4.137794\n",
       "SEMIO_KULT                  4.142188\n",
       "SEMIO_RAT                   6.424553\n",
       "SEMIO_KRIT                  5.326130\n",
       "SEMIO_DOM                   6.147732\n",
       "SEMIO_KAEM                  5.679195\n",
       "SEMIO_PFLICHT               6.261711\n",
       "SEMIO_TRADV                 6.049160\n",
       "SOHO_KZ                     0.008868\n",
       "VERS_TYP                    1.431085\n",
       "ANZ_PERSONEN                2.061178\n",
       "ANZ_TITEL                   0.000105\n",
       "HH_EINKOMMEN_SCORE          4.194283\n",
       "                            ...     \n",
       "KONSUMNAEHE                 3.646108\n",
       "MIN_GEBAEUDEJAHR         1992.728265\n",
       "OST_WEST_KZ                 0.135069\n",
       "KBA05_ANTG1                 2.287984\n",
       "KBA05_ANTG2                 1.339803\n",
       "KBA05_ANTG3                 0.246873\n",
       "KBA05_ANTG4                 0.039105\n",
       "KBA05_GBZ                   3.922329\n",
       "BALLRAUM                    4.962252\n",
       "EWDICHTE                    3.062183\n",
       "INNENSTADT                  5.400761\n",
       "GEBAEUDETYP_RASTER          3.982333\n",
       "KKK                         2.610563\n",
       "MOBI_REGIO                  3.824857\n",
       "ONLINE_AFFINITAET           3.589545\n",
       "REGIOTYP                    4.163870\n",
       "KBA13_ANZAHL_PKW          695.939621\n",
       "PLZ8_ANTG1                  2.853942\n",
       "PLZ8_ANTG2                  2.432212\n",
       "PLZ8_ANTG3                  0.982097\n",
       "PLZ8_ANTG4                  0.254304\n",
       "PLZ8_HHZ                    3.542264\n",
       "PLZ8_GBZ                    3.928541\n",
       "ARBEIT                      2.773877\n",
       "ORTSGR_KLS9                 4.010821\n",
       "RELAT_AB                    2.540495\n",
       "DECADE                      5.654035\n",
       "MOVEMENT                    0.796187\n",
       "WEALTH                      2.556727\n",
       "LIFE_STAGE                  3.265368\n",
       "Length: 64, dtype: float64"
      ]
     },
     "execution_count": 100,
     "metadata": {},
     "output_type": "execute_result"
    }
   ],
   "source": [
    "overrepresented_c = pd.Series(data = centroid_4, index = customers_clean.columns)\n",
    "overrepresented_c"
   ]
  },
  {
   "cell_type": "code",
   "execution_count": 101,
   "metadata": {},
   "outputs": [],
   "source": [
    "# What kinds of people are part of a cluster that is underrepresented in the\n",
    "# customer data compared to the general population?\n",
    "centroid_13 = scaler.inverse_transform(pca_30.inverse_transform(model_14.cluster_centers_[13]))"
   ]
  },
  {
   "cell_type": "code",
   "execution_count": 102,
   "metadata": {},
   "outputs": [],
   "source": [
    "underrepresented_c = pd.Series(data = centroid_13, index = customers_clean.columns)"
   ]
  },
  {
   "cell_type": "code",
   "execution_count": 103,
   "metadata": {},
   "outputs": [
    {
     "data": {
      "text/plain": [
       "ALTERSKATEGORIE_GROB        3.511500\n",
       "ANREDE_KZ                   1.988478\n",
       "FINANZ_MINIMALIST           2.194909\n",
       "FINANZ_SPARER               2.042747\n",
       "FINANZ_VORSORGER            4.151380\n",
       "FINANZ_ANLEGER              2.286842\n",
       "FINANZ_UNAUFFAELLIGER       1.698225\n",
       "FINANZ_HAUSBAUER            4.574969\n",
       "GREEN_AVANTGARDE            0.042028\n",
       "HEALTH_TYP                  2.012960\n",
       "RETOURTYP_BK_S              4.200274\n",
       "SEMIO_SOZ                   3.558600\n",
       "SEMIO_FAM                   2.202819\n",
       "SEMIO_REL                   1.953190\n",
       "SEMIO_MAT                   2.087041\n",
       "SEMIO_VERT                  2.639810\n",
       "SEMIO_LUST                  5.330695\n",
       "SEMIO_ERL                   6.529229\n",
       "SEMIO_KULT                  1.807166\n",
       "SEMIO_RAT                   3.269856\n",
       "SEMIO_KRIT                  6.075104\n",
       "SEMIO_DOM                   5.824067\n",
       "SEMIO_KAEM                  6.311525\n",
       "SEMIO_PFLICHT               2.871636\n",
       "SEMIO_TRADV                 2.389212\n",
       "SOHO_KZ                     0.007250\n",
       "VERS_TYP                    1.628484\n",
       "ANZ_PERSONEN                1.393359\n",
       "ANZ_TITEL                   0.001154\n",
       "HH_EINKOMMEN_SCORE          5.582796\n",
       "                            ...     \n",
       "KONSUMNAEHE                 1.964895\n",
       "MIN_GEBAEUDEJAHR         1992.255466\n",
       "OST_WEST_KZ                 0.354740\n",
       "KBA05_ANTG1                 0.167039\n",
       "KBA05_ANTG2                 0.086252\n",
       "KBA05_ANTG3                 0.399010\n",
       "KBA05_ANTG4                 1.577040\n",
       "KBA05_GBZ                   1.245275\n",
       "BALLRAUM                    2.885720\n",
       "EWDICHTE                    5.327213\n",
       "INNENSTADT                  3.132999\n",
       "GEBAEUDETYP_RASTER          3.075431\n",
       "KKK                         2.829103\n",
       "MOBI_REGIO                  1.113127\n",
       "ONLINE_AFFINITAET           1.771339\n",
       "REGIOTYP                    4.903694\n",
       "KBA13_ANZAHL_PKW          509.141379\n",
       "PLZ8_ANTG1                  1.393486\n",
       "PLZ8_ANTG2                  2.988976\n",
       "PLZ8_ANTG3                  2.403925\n",
       "PLZ8_ANTG4                  1.547470\n",
       "PLZ8_HHZ                    3.777536\n",
       "PLZ8_GBZ                    2.387309\n",
       "ARBEIT                      3.587654\n",
       "ORTSGR_KLS9                 7.201993\n",
       "RELAT_AB                    3.618202\n",
       "DECADE                      3.506237\n",
       "MOVEMENT                    0.948261\n",
       "WEALTH                      4.441950\n",
       "LIFE_STAGE                  2.591691\n",
       "Length: 64, dtype: float64"
      ]
     },
     "execution_count": 103,
     "metadata": {},
     "output_type": "execute_result"
    }
   ],
   "source": [
    "underrepresented_c"
   ]
  },
  {
   "cell_type": "markdown",
   "metadata": {},
   "source": [
    "### Discussion 3.3: Compare Customer Data to Demographics Data\n",
    "\n",
    "From the anaylsis above, it can be seen that \n",
    "\n",
    "Cluster 4 is overrepresented in the customers data compared to general population data. Some characteristics of the group of population that are relative popular with the mail-order company:\n",
    "* in areas where the share of 6-10 family homes is lower (PLZ8_ANTG3=1.73)\n",
    "* in Prosperous or Comfortable households (WEALTH=2.75)\n",
    "* in life stage of Families With School Age Children or Older Families & Mature Couples (LIFE_STAGE=3.30)\n",
    "\n",
    "Cluster 13 is underrepresented in the customers data. Some characteristics of the segment of the population that are relatively unpopular with the company:\n",
    "* in areas where the share of 6-10 family homes is higher (PLZ8_ANTG3=2.44)\n",
    "* in Less Affluent or Poorer households (WEALTH=4.4)\n",
    "* in life stage of Pre-Family Couples & Singles or Young Couples With Children (LIFE_STAGE=1.98)"
   ]
  },
  {
   "cell_type": "markdown",
   "metadata": {},
   "source": [
    "> Congratulations on making it this far in the project! Before you finish, make sure to check through the entire notebook from top to bottom to make sure that your analysis follows a logical flow and all of your findings are documented in **Discussion** cells. Once you've checked over all of your work, you should export the notebook as an HTML document to submit for evaluation. You can do this from the menu, navigating to **File -> Download as -> HTML (.html)**. You will submit both that document and this notebook for your project submission."
   ]
  },
  {
   "cell_type": "code",
   "execution_count": null,
   "metadata": {},
   "outputs": [],
   "source": []
  },
  {
   "cell_type": "code",
   "execution_count": null,
   "metadata": {},
   "outputs": [],
   "source": []
  },
  {
   "cell_type": "code",
   "execution_count": null,
   "metadata": {},
   "outputs": [],
   "source": []
  }
 ],
 "metadata": {
  "kernelspec": {
   "display_name": "Python 3",
   "language": "python",
   "name": "python3"
  },
  "language_info": {
   "codemirror_mode": {
    "name": "ipython",
    "version": 3
   },
   "file_extension": ".py",
   "mimetype": "text/x-python",
   "name": "python",
   "nbconvert_exporter": "python",
   "pygments_lexer": "ipython3",
   "version": "3.6.3"
  }
 },
 "nbformat": 4,
 "nbformat_minor": 2
}
